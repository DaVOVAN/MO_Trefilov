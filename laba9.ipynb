{
  "cells": [
    {
      "cell_type": "markdown",
      "metadata": {
        "id": "view-in-github",
        "colab_type": "text"
      },
      "source": [
        "<a href=\"https://colab.research.google.com/github/DaVOVAN/MO_Trefilov/blob/main/laba9.ipynb\" target=\"_parent\"><img src=\"https://colab.research.google.com/assets/colab-badge.svg\" alt=\"Open In Colab\"/></a>"
      ]
    },
    {
      "cell_type": "markdown",
      "metadata": {
        "id": "m2s4kN_QPQVe"
      },
      "source": [
        "# Введение в обучение с подкреплением  (Reinforcement Learning)\n",
        "\n",
        "\n",
        "<center>\n",
        "<img src=\"https://raw.githubusercontent.com/jcformanek/jcformanek.github.io/master/docs/assets/images/rl_in_space.png\" width=\"100%\" />\n",
        "</center>\n",
        "\n",
        "\n",
        "\n",
        "**Введение**\n",
        "\n",
        "На этом семинаре мы изучим обучение с подкреплением - тип машинного обучения без учителя, где агент учится выбирать действия, которые приводят к максимальному вознаграждению в долгосрочной перспективе. Обучение с подкреплением используется в широком спектре сложных задач, в том числе - в видеоиграх, например, [Atari](https://www.deepmind.com/blog/agent57-outperforming-the-human-atari-benchmark), [StarCraft II](https://www.deepmind.com/blog/alphastar-mastering-the-real-time-strategy-game-starcraft-ii) и [Dota II](https://openai.com/five/).\n",
        "\n",
        "На семинаре изучим классическую среду - [CartPole](https://www.gymlibrary.ml/environments/classic_control/cart_pole/), где агент должен научиться балансировать шестом на тележке (см лекцию), используя несколько различных подходов RL. По пути вы познакомитесь с некоторыми из самых важных концепций и терминологии в RL.\n",
        "\n",
        "**Темы:**\n",
        "* Reinforcement Learning (RL, Обучение с подкреплением)\n",
        "* Random Policy Search (Случайный поиск политики)\n",
        "* Policy Gradient (Градиент политики)\n",
        "* Q-Learning\n",
        "\n",
        "\n",
        "**Что надо сделать для лучшего понимания:**\n",
        "\n",
        "* почитать про библиотеку [JAX](https://github.com/google/jax).\n",
        "* вспомнить нейроки.\n",
        "\n"
      ]
    },
    {
      "cell_type": "markdown",
      "metadata": {
        "id": "6EqhIg1odqg0"
      },
      "source": [
        "### Настраиваем среду"
      ]
    },
    {
      "cell_type": "code",
      "execution_count": null,
      "metadata": {
        "id": "4boGA9rYdt9l"
      },
      "outputs": [],
      "source": [
        "# @title Установка необходимых пакетов (надо просто запустить!) { display-mode: \"form\" }\n",
        "# @markdown Может занять несколько минут\n",
        "%%capture\n",
        "!pip install jaxlib\n",
        "!pip install jax\n",
        "!pip install git+https://github.com/deepmind/dm-haiku\n",
        "!pip install gym==0.25\n",
        "!pip install gym[box2d]\n",
        "!pip install optax\n",
        "!pip install matplotlib\n",
        "!pip install chex\n",
        "!pip install gym[classic_control]"
      ]
    },
    {
      "cell_type": "code",
      "execution_count": null,
      "metadata": {
        "id": "gwbqggmcRjMy"
      },
      "outputs": [],
      "source": [
        "# @title Импорт необходимых пакетов (просто запустите ячейку) { display-mode: \"form\" }\n",
        "%%capture\n",
        "import copy\n",
        "from shutil import rmtree # deleting directories\n",
        "import random\n",
        "import collections # useful data structures\n",
        "import numpy as np\n",
        "import gym # reinforcement learning environments\n",
        "from gym.wrappers import RecordVideo\n",
        "import jax\n",
        "import jax.numpy as jnp # jax numpy\n",
        "import haiku as hk # jax neural network library\n",
        "import optax # jax optimizer library\n",
        "import matplotlib.pyplot as plt # graph plotting library\n",
        "from IPython.display import HTML\n",
        "from base64 import b64encode\n",
        "import chex\n",
        "\n",
        "# Hide warnings\n",
        "import warnings\n",
        "warnings.filterwarnings('ignore')"
      ]
    },
    {
      "cell_type": "markdown",
      "metadata": {
        "id": "-ZUp8i37dFbU"
      },
      "source": [
        "## 1. Ключевые концепции обучения с подкреплением\n",
        "\n",
        "Обучение с подкреплением (RL) является подразделом машинного обучения (ML). В отличие от таких областей, как контролируемое обучение, где мы даем примеры ожидаемого поведения нашим моделям, RL фокусируется на *целеориентированном* обучении из взаимодействий методом проб и ошибок. Алгоритмы RL изучают, что делать (т. е. какие оптимальные действия предпринять) в среде, чтобы максимизировать некий сигнал вознаграждения. В таких условиях, как видеоигра, сигналом вознаграждения может быть счет игры, т. е. алгоритмы RL будут пытаться максимизировать счет в игре, выбирая лучшие действия.\n",
        "\n",
        "<center>\n",
        "<img src=\"https://pettingzoo.farama.org/_images/environments-demo.gif\" width=\"40%\" />\n",
        "</center>\n",
        "\n",
        "[*Image Source*](https://pettingzoo.farama.org/)\n",
        "\n",
        "Другими словами, в RL у нас есть **агент**, который воспринимает **наблюдение** $o_t$ текущего состояния $s_t$ **окружающей среды** и должен выбрать **действие** $a_t$ для выполнения.\n",
        "\n",
        "Затем окружающая среда переходит в новое состояние $s_{t+1}$ в ответ на действие агента, а также дает агенту скалярное вознаграждение $r_t$, чтобы указать, насколько хорошим или плохим было выбранное действие, учитывая состояние окружающей среды.\n",
        "\n",
        "Целью в RL является максимизация агентом суммы вознаграждения, которое он получает от окружающей среды с течением времени. Нижний индекс $t$ используется для указания номера временного шага, т. е. $s_0$ - это состояние окружающей среды на начальном временном шаге, а $a_{99}$ - это действие агента на $99-м$ временном шаге."
      ]
    },
    {
      "cell_type": "markdown",
      "metadata": {
        "id": "Ghgy69hFRjMz"
      },
      "source": [
        "### Среда - OpenAI Gym\n",
        "Как упоминалось выше, среда получает от агента действие $a_t$ и возвращает вознаграждение $r_t$ и наблюдение $o_t$.\n",
        "\n",
        "OpenAI разработал пакет для Python под названием **Gym**, который включает реализации популярных сред и простой интерфейс для взаимодействия агента RL. Чтобы использовать поддерживаемую [среду gym](https://www.gymlibrary.ml/), все, что вам нужно сделать, это передать имя среды в функцию  `gym.make(<environment_name>)`.\n",
        "\n",
        "В этом уроке мы будем использовать простую среду под названием **CartPole**. В CartPole задача агента — научиться балансировать на шесте как можно дольше, перемещая тележку *влево* или *вправо*.\n",
        "\n",
        "<img src=\"https://user-images.githubusercontent.com/10854026/32486103-f15f19de-c3a5-11e7-81de-0605df939497.gif\" width=\"50%\" />"
      ]
    },
    {
      "cell_type": "code",
      "execution_count": null,
      "metadata": {
        "id": "WfxzajMYRjMz"
      },
      "outputs": [],
      "source": [
        "# Create the environment\n",
        "env_name = \"CartPole-v0\"\n",
        "env = gym.make(env_name)"
      ]
    },
    {
      "cell_type": "markdown",
      "metadata": {
        "id": "y_BbftaJj3zu"
      },
      "source": [
        "### Состояние (States) и Наблюдение (Observations) - $s_t$ and $o_t$\n",
        "\n",
        "В RL агент воспринимает наблюдение за состоянием среды. В некоторых настройках наблюдение может включать всю информацию, лежащую в основе состояния среды. Такая среда называется **полностью наблюдаемой**. В других настройках агент может получать только частичную информацию о состоянии среды в своем наблюдении. Такая среда называется **частично наблюдаемой**.\n",
        "\n",
        "В оставшейся части этого руководства мы будем предполагать, что среда полностью наблюдаема, и поэтому будем использовать состояние $s_t$ и наблюдение $o_t$ взаимозаменяемо. В Gym мы получаем начальное наблюдение из среды, вызывая функцию `env.reset()`."
      ]
    },
    {
      "cell_type": "code",
      "execution_count": null,
      "metadata": {
        "id": "HdS8nqOgRjM0",
        "colab": {
          "base_uri": "https://localhost:8080/"
        },
        "outputId": "6e0902a4-5ce7-4f65-9553-4162fac67964"
      },
      "outputs": [
        {
          "output_type": "stream",
          "name": "stdout",
          "text": [
            "Initial State:: [-0.00920679  0.02994791  0.01825034  0.01940634]\n",
            "Environment Obs Space Shape: (4,)\n"
          ]
        }
      ],
      "source": [
        "# Reset the environment\n",
        "s_0 = env.reset()\n",
        "print(\"Initial State::\", s_0)\n",
        "\n",
        "# Get environment obs space\n",
        "obs_shape = env.observation_space.shape\n",
        "print(\"Environment Obs Space Shape:\", obs_shape)"
      ]
    },
    {
      "cell_type": "markdown",
      "metadata": {
        "id": "pUNX6mbotABo"
      },
      "source": [
        "В CartPole состояние окружающей среды представлено четырьмя числами: *угловое положение полюса, угловая скорость полюса, положение тележки, скорость тележки*."
      ]
    },
    {
      "cell_type": "markdown",
      "metadata": {
        "id": "hL1Nkgy7nUfn"
      },
      "source": [
        "### Действия (Actions) - $a_t$\n",
        "\n",
        "В RL действия обычно либо **дискретные**, либо **непрерывные**. Непрерывные действия задаются вектором действительных чисел. Дискретные действия задаются целочисленным значением. В средах, где мы можем подсчитать конечный набор действий, мы обычно используем дискретные действия.\n",
        "\n",
        "В CartPole есть только два действия: *влево* и *вправо*. Таким образом, действия могут быть представлены целыми числами $0$ и $1$. В gym мы можем легко получить список возможных действий следующим образом:"
      ]
    },
    {
      "cell_type": "code",
      "execution_count": null,
      "metadata": {
        "id": "uOLZqU_LpIXh",
        "colab": {
          "base_uri": "https://localhost:8080/"
        },
        "outputId": "02dfda45-acdb-48d1-dfb1-cfe45eead64b"
      },
      "outputs": [
        {
          "output_type": "stream",
          "name": "stdout",
          "text": [
            "Environment action space: Discrete(2)\n",
            "Number of actions: 2\n"
          ]
        }
      ],
      "source": [
        "# Get action space - e.g. discrete or continuous\n",
        "print(f\"Environment action space: {env.action_space}\")\n",
        "\n",
        "# Get num actions\n",
        "num_actions = env.action_space.n\n",
        "print(f\"Number of actions: {num_actions}\")"
      ]
    },
    {
      "cell_type": "markdown",
      "metadata": {
        "id": "tRsflxbDpoPm"
      },
      "source": [
        "### Политика агента (The Agent's Policy) - $\\pi$\n",
        "\n",
        "В RL агент выбирает действия на основе полученных наблюдений. Мы можем представить процесс выбора действия агента как функцию, которая принимает наблюдение в качестве входных данных и возвращает действие в качестве выходных данных. В RL мы обычно называем эту функцию **политикой** агента и обозначаем ее $\\pi(s_t)=a_t$. В RL мы обычно параметризуем нашу политику каким-либо образом, а затем пытаемся узнать оптимальные параметры. Параметризованная политика обычно обозначается $\\pi_\\theta$, где $\\theta$ — это набор параметров.\n",
        "\n",
        "**Упражнение 1:** В качестве упражнения давайте реализуем простую политику, которая принимает набор параметров и наблюдение в качестве входных данных и возвращает действие. Предположим, что наблюдение — это вектор из четырех чисел, как наблюдение CartPole, и что действие должно быть либо $0$, либо $1$. Предположим также, что параметры — это вектор из четырех действительных чисел. Тогда действие должно быть вычислено следующим образом.\n",
        "\n",
        "\n",
        "1. Вычислите [скалярное произведение векторов](https://www.mathsisfun.com/algebra/vectors-dot-product.html) между наблюдением и параметрами.\n",
        "2. Если результат больше нуля, верните действие $1$.\n",
        "3. В противном случае верните действие $0$.\n",
        "\n",
        "В этом упражнении мы постараемся использовать JAX как можно чаще. Поэтому постарайтесь использовать методы JAX для этой задачи. Ниже приведены некоторые полезные методы, которые вы можете использовать. Вам нужно будет завершить код в блоке ниже, заменив `...` правильным кодом.\n",
        "\n",
        "\n",
        "**Полезные методы:**\n",
        "* Вычислите скалярное произведение векторов с помощью `jax.numpy.dot` ([docs](https://jax.readthedocs.io/en/latest/_autosummary/jax.numpy.dot.html)).\n",
        "\n",
        "* Когда вы пытаетесь условно присвоить значение $0$ или $1$ действию на основе результата скалярного произведения, вам следует использовать `jax.lax.select` ([docs](https://jax.readthedocs.io/en/latest/_autosummary/jax.lax.select.html#jax.lax.select)).\n",
        "\n",
        "Метод `jax.lax.select` принимает три аргумента в качестве входных данных. Первый аргумент — это оператор, который будет оцениваться как `True` или `False`.\n",
        "\n",
        "Если оператор равен `True`, то `jax.lax.select` вернет свой второй аргумент.\n",
        "\n",
        "Если оператор имеет значение `False`, `jax.lax.select` вернет свой третий аргумент.\n",
        "\n"
      ]
    },
    {
      "cell_type": "code",
      "execution_count": null,
      "metadata": {
        "id": "KSGCd7XB1z8k"
      },
      "outputs": [],
      "source": [
        "def linear_policy(params, obs):\n",
        "  \"\"\"A simple linear policy\n",
        "\n",
        "  Args:\n",
        "    params: a vector of four real-numbers that give the parameters of the policy\n",
        "    obs: a vector of four real-numbers that give the agent's observation\n",
        "\n",
        "  Returns:\n",
        "    a discrete action given by a 0 or 1\n",
        "  \"\"\"\n",
        "  # YOUR CODE\n",
        "  dot_product_result = jnp.dot(params, obs)\n",
        "\n",
        "  action = jax.lax.select(\n",
        "      dot_product_result > 0, # boolean statement goes here\n",
        "      jnp.array(1), # result when the statement is True goes here\n",
        "      jnp.array(0), # result when the statement is False goes here\n",
        "  )\n",
        "  # END YOUR CODE\n",
        "  return action"
      ]
    },
    {
      "cell_type": "code",
      "execution_count": null,
      "metadata": {
        "id": "9EnnBvceb1f3",
        "colab": {
          "base_uri": "https://localhost:8080/"
        },
        "outputId": "200dd95f-3235-4b7c-b3b6-6f4b4c677a22"
      },
      "outputs": [
        {
          "output_type": "stream",
          "name": "stdout",
          "text": [
            "Your function is correct!\n"
          ]
        }
      ],
      "source": [
        "# @title Проверка упр 1  { display-mode: \"form\" }\n",
        "\n",
        "def check_linear_policy(linear_policy):\n",
        "  fixed_obs = jnp.array([1,1,2,4])\n",
        "\n",
        "  # check case1 - negative dot product.\n",
        "  # weights\n",
        "  params1 = jnp.array([1,1,1,1])\n",
        "  params2 = jnp.array([-1,-1,-1,-1])\n",
        "\n",
        "  hint1 = f\"Неправильный ответ, ваша линейная политика неверна. Действие при \\\n",
        "obs={fixed_obs} и params={params1} должно быть 1\"\n",
        "\n",
        "  hint2 = f\"Неправильный ответ, ваша линейная политика неверна. Действие при \\\n",
        "obs={fixed_obs} и params={params2} должно быть 0\"\n",
        "\n",
        "  hint = None\n",
        "  if linear_policy(params1, fixed_obs) != 1:\n",
        "    hint = hint1\n",
        "  elif linear_policy(params2, fixed_obs) != 0:\n",
        "    hint = hint2\n",
        "\n",
        "  if hint is not None:\n",
        "    print(hint)\n",
        "  else:\n",
        "    print(\"Your function is correct!\")\n",
        "\n",
        "try:\n",
        "  check_linear_policy(linear_policy)\n",
        "except Exception as e:\n",
        "    print(\"An Error Occured: {}\".format(e))"
      ]
    },
    {
      "cell_type": "markdown",
      "metadata": {
        "id": "PkuvT-jf6Ieh"
      },
      "source": [
        "### Функция перехода среды - $P$\n",
        "\n",
        "Теперь, когда у нас есть политика, мы можем передавать действия от агента среде. Затем среда перейдет в новое состояние в ответ на действие агента.\n",
        "\n",
        "В RL мы моделируем этот процесс с помощью **функции перехода состояния** $P$, которая принимает текущее состояние $s_t$ и действие $a_t$ в качестве входных данных и возвращает следующее состояние $s_{t+1}$ в качестве выходных данных:\n",
        "\n",
        "<center>\n",
        "$s_{t+1}=P(s_t, a_t)$\n",
        "</center>\n",
        "\n",
        "В gym мы можем передавать действия среде, вызывая функцию `env.step(<action>)`. Затем функция вернет четыре значения:\n",
        "- **следующее наблюдение**\n",
        "- **награду** за выполненное действие\n",
        "- логический флаг, указывающий, **завершена** игра\n",
        "- некоторую **дополнительную** информацию."
      ]
    },
    {
      "cell_type": "code",
      "execution_count": null,
      "metadata": {
        "id": "hh0j9-Tk7olb",
        "colab": {
          "base_uri": "https://localhost:8080/"
        },
        "outputId": "60178196-ec08-4bfc-8695-1d777b9bd442"
      },
      "outputs": [
        {
          "output_type": "stream",
          "name": "stdout",
          "text": [
            "Observation: [ 0.03001367 -0.02444182  0.01085487 -0.0052919 ]\n",
            "Action: 1\n",
            "Next observation: [ 0.02952484  0.1705228   0.01074903 -0.2945303 ]\n",
            "Reward: 1.0\n",
            "Game is done: False\n"
          ]
        }
      ],
      "source": [
        "# Get the initial obs by resetting the env\n",
        "initial_obs = env.reset()\n",
        "\n",
        "# Randomly sample actions from env\n",
        "action = env.action_space.sample()\n",
        "\n",
        "# Step the environment\n",
        "next_obs, reward, done, info = env.step(action)\n",
        "\n",
        "print(\"Observation:\", initial_obs)\n",
        "print(\"Action:\", action)\n",
        "print(\"Next observation:\", next_obs)\n",
        "print(\"Reward:\", reward)\n",
        "print(\"Game is done:\", done)"
      ]
    },
    {
      "cell_type": "markdown",
      "metadata": {
        "id": "bX9iZtu48UYn"
      },
      "source": [
        "### Возврат эпизода - $R_t$\n",
        "\n",
        "В RL мы обычно разбиваем взаимодействие агента с окружающей средой на **эпизоды**. Сумма всех вознаграждений, собранных во время эпизода, - это то, что мы называем **возвратом** эпизода - $R_t$:\n",
        "\n",
        "<center>\n",
        "$R_t=\\sum_{t=0}^Tr_t$,\n",
        "</center>\n",
        "\n",
        "где $r_t$ - это вознаграждение в момент времени $t$, а $T$ - это последний временной шаг. Цель в RL - выбрать действия, которые максимизируют этот ожидаемый будущий возврат $R_t$."
      ]
    },
    {
      "cell_type": "markdown",
      "metadata": {
        "id": "y6KZA1Nq9p47"
      },
      "source": [
        "### Цикл агент-среда\n",
        "Теперь, когда мы знаем, что такое политика, и знаем, как пошагово проходить среду, давайте закроем цикл агент-среда.\n",
        "\n",
        "**Упражнение 2:** Напишите функцию, которая запускает один эпизод CartPole, последовательно выбирая действия и пошагово проходя среду. Вам следует использовать линейную политику, которую мы определили ранее, для выбора действий. Функция должна отслеживать полученное вознаграждение и выводить возврат в конце эпизода.\n",
        "\n",
        "В CartPole агент получает вознаграждение `1` за каждый временной шаг, когда шест все еще стоит вертикально. Если шест падает, игра заканчивается, и агент больше не получает вознаграждения. Игра также заканчивается после `200` временных шагов, поэтому максимальное вознаграждение, которое может получить агент, составляет `200`."
      ]
    },
    {
      "cell_type": "code",
      "execution_count": null,
      "metadata": {
        "id": "Buy0X7mi-gHP"
      },
      "outputs": [],
      "source": [
        "def run_episode(env):\n",
        "  episode_return = 0 # counter to keep track of rewards\n",
        "  done = False # initially set to False\n",
        "  params = jnp.array([1,-2,2,-1]) # fixed policy parameters\n",
        "\n",
        "  ## YOUR CODE\n",
        "\n",
        "  obs = env.reset() # get the initial obs from the env\n",
        "\n",
        "  while not done: # loop until episode is done\n",
        "\n",
        "    action = linear_policy(params, obs) # compute action using linear policy\n",
        "    action = np.array(action) # We need to the convert the action from the policy to a np.array\n",
        "\n",
        "    obs, reward, done, info = env.step(action) # step the environment\n",
        "\n",
        "    episode_return += reward # add reward to episode return\n",
        "\n",
        "  return episode_return"
      ]
    },
    {
      "cell_type": "code",
      "execution_count": null,
      "metadata": {
        "id": "bA2Orj9PVbKO",
        "colab": {
          "base_uri": "https://localhost:8080/"
        },
        "outputId": "98f79843-044c-47be-e9b2-a4af7fefb7db"
      },
      "outputs": [
        {
          "output_type": "stream",
          "name": "stdout",
          "text": [
            "Looks correct!\n"
          ]
        }
      ],
      "source": [
        "# @title Проверка упр 2 (run me) { display-mode: \"form\" }\n",
        "\n",
        "try:\n",
        "  env.seed(42)\n",
        "  if run_episode(env) == 31:\n",
        "    print(\"Looks correct!\")\n",
        "  else:\n",
        "    print(\"Looks like your implementation might be wrong.\")\n",
        "except Exception as e:\n",
        "    print(\"An Error Occured: {}\".format(e))"
      ]
    },
    {
      "cell_type": "markdown",
      "metadata": {
        "id": "fUGdzHxJnZGl"
      },
      "source": [
        "В CartPole среда считается решенной, когда агент может надежно достичь возврата эпизода 500. Как вы можете видеть, наша текущая политика далека от оптимальной.\n",
        "\n",
        "Один из способов найти оптимальную политику — это случайным образом пробовать разные политики, пока не найдем оптимальную. Эта стратегия называется случайным поиском политики и может быть на удивление эффективной.\n",
        "\n",
        "Прежде чем мы реализуем случайный поиск политики, давайте быстро рассмотрим общий цикл обучения RL, который мы будем использовать для реализации алгоритмов в оставшейся части этого руководства.\n",
        "\n",
        "### Цикл обучения RL общего назначения\n",
        "Мы реализовали для вас цикл обучения RL общего назначения. Цикл обучения принимает несколько аргументов в качестве входных данных, но три наиболее важных для понимания — это `agent_select_action_func`, `agent_learn_func` и `agent_memory`.\n",
        "\n",
        "* `agent_select_action_func` — это функция, которую мы определяем и можем передать в цикл обучения. Функция принимает наблюдение и набор `agent_params` в качестве входных данных и должна возвращать действие.\n",
        "* `agent_learn_func` — это еще один метод, который мы определяем и передаем в цикл обучения. Он должен принимать параметры агента и некоторые «воспоминания» в качестве входных данных, а затем обновлять и возвращать агентам новые параметры.\n",
        "* `agent_memory` — это модуль общего назначения, который мы определяем, который может хранить некоторую релевантную информацию об опыте агента в среде, которую можно использовать в `agent_learn_func`.\n",
        "\n",
        "Ниже приведена функция цикла обучения, которую мы реализовали для вас. Вы можете просмотреть код и попытаться понять его, но это не обязательно. Таким образом, мы скрыли код по умолчанию, просто убедитесь, что вы запустили ячейку кода, прежде чем двигаться дальше, потому что цикл обучения далее в коде."
      ]
    },
    {
      "cell_type": "code",
      "execution_count": null,
      "metadata": {
        "id": "ZWBwz3zMRjM0"
      },
      "outputs": [],
      "source": [
        "#@title Training loop (run me) { display-mode: \"form\" }\n",
        "\n",
        "# NamedTuple to store transitions\n",
        "Transition = collections.namedtuple(\"Transition\", [\"obs\", \"action\", \"reward\", \"next_obs\", \"done\"])\n",
        "\n",
        "# Training Loop\n",
        "def run_training_loop(env_name, agent_params, agent_select_action_func,\n",
        "    agent_actor_state=None, agent_learn_func=None, agent_learner_state=None,\n",
        "    agent_memory=None, num_episodes=1000, evaluator_period=100,\n",
        "    evaluation_episodes=8, learn_steps_per_episode=1,\n",
        "    train_every_timestep=False, video_subdir=\"\",):\n",
        "    \"\"\"\n",
        "    This function runs several episodes in an environment and periodically does\n",
        "    some agent learning and evaluation.\n",
        "\n",
        "    Args:\n",
        "        env: a gym environment.\n",
        "        agent_params: an object to store parameters that the agent uses.\n",
        "        agent_select_func: a function that does action selection for the agent.\n",
        "        agent_actor_state (optional): an object that stores the internal state\n",
        "            of the agents action selection function.\n",
        "        agent_learn_func (optional): a function that does some learning for the\n",
        "            agent by updating the agent parameters.\n",
        "        agent_learn_state (optional): an object that stores the internal state\n",
        "            of the agent learn function.\n",
        "        agent_memory (optional): an object for storing an retrieving historical\n",
        "            experience.\n",
        "        num_episodes: how many episodes to run.\n",
        "        evaluator_period: how often to run evaluation.\n",
        "        evaluation_episodes: how many evaluation episodes to run.\n",
        "        train_every_timestep: whether to train every timestep rather than at the end\n",
        "            of the episode.\n",
        "        video_subdir: subdirectory to store epsiode recordings.\n",
        "\n",
        "    Returns:\n",
        "        episode_returns: list of all the episode returns.\n",
        "        evaluator_episode_returns: list of all the evaluator episode returns.\n",
        "    \"\"\"\n",
        "\n",
        "    # Setup Cartpole environment and recorder\n",
        "    env = gym.make(env_name, render_mode=\"rgb_array\") # training environment\n",
        "    eval_env = gym.make(env_name, render_mode=\"rgb_array\") # evaluation environment\n",
        "\n",
        "    # Video dir\n",
        "    video_dir = \"./video\"+\"/\"+video_subdir\n",
        "\n",
        "    # Clear video dir\n",
        "    try:\n",
        "      rmtree(video_dir)\n",
        "    except:\n",
        "      pass\n",
        "\n",
        "    # Wrap in recorder\n",
        "    env = RecordVideo(env, video_dir+\"/train\", episode_trigger=lambda x: (x % evaluator_period) == 0)\n",
        "    eval_env = RecordVideo(eval_env, video_dir+\"/eval\", episode_trigger=lambda x: (x % evaluation_episodes) == 0)\n",
        "\n",
        "    # JAX random number generator\n",
        "    rng = hk.PRNGSequence(jax.random.PRNGKey(0))\n",
        "    env.seed(0) # seed environment for reproducability\n",
        "    random.seed(0)\n",
        "\n",
        "    episode_returns = [] # List to store history of episode returns.\n",
        "    evaluator_episode_returns = [] # List to store history of evaluator returns.\n",
        "    timesteps = 0\n",
        "    for episode in range(num_episodes):\n",
        "\n",
        "        # Reset environment.\n",
        "        obs = env.reset()\n",
        "        episode_return = 0\n",
        "        done = False\n",
        "\n",
        "        while not done:\n",
        "\n",
        "            # Agent select action.\n",
        "            action, agent_actor_state = agent_select_action_func(\n",
        "                                            next(rng),\n",
        "                                            agent_params,\n",
        "                                            agent_actor_state,\n",
        "                                            np.array(obs)\n",
        "                                        )\n",
        "\n",
        "            # Step environment.\n",
        "            next_obs, reward, done, _ = env.step(int(action))\n",
        "\n",
        "            # Pack into transition.\n",
        "            transition = Transition(obs, action, reward, next_obs, done)\n",
        "\n",
        "            # Add transition to memory.\n",
        "            if agent_memory: # check if agent has memory\n",
        "              agent_memory.push(transition)\n",
        "\n",
        "            # Add reward to episode return.\n",
        "            episode_return += reward\n",
        "\n",
        "            # Set obs to next obs before next environment step. CRITICAL!!!\n",
        "            obs = next_obs\n",
        "\n",
        "            # Increment timestep counter\n",
        "            timesteps += 1\n",
        "\n",
        "            # Maybe learn every timestep\n",
        "            if train_every_timestep and (timesteps % 4 == 0) and agent_memory and agent_memory.is_ready(): # Make sure memory is ready\n",
        "                # First sample memory and then pass the result to the learn function\n",
        "                memory = agent_memory.sample()\n",
        "                agent_params, agent_learner_state = agent_learn_func(\n",
        "                                                        next(rng),\n",
        "                                                        agent_params,\n",
        "                                                        agent_learner_state,\n",
        "                                                        memory\n",
        "                                                    )\n",
        "\n",
        "        episode_returns.append(episode_return)\n",
        "\n",
        "        # At the end of every episode we do a learn step.\n",
        "        if agent_memory and agent_memory.is_ready(): # Make sure memory is ready\n",
        "\n",
        "            for _ in range(learn_steps_per_episode):\n",
        "                # First sample memory and then pass the result to the learn function\n",
        "                memory = agent_memory.sample()\n",
        "                agent_params, agent_learner_state = agent_learn_func(\n",
        "                                                        next(rng),\n",
        "                                                        agent_params,\n",
        "                                                        agent_learner_state,\n",
        "                                                        memory\n",
        "                                                    )\n",
        "\n",
        "        if (episode % evaluator_period) == 0: # Do evaluation\n",
        "\n",
        "            evaluator_episode_return = 0\n",
        "            for eval_episode in range(evaluation_episodes):\n",
        "                obs = eval_env.reset()\n",
        "                done = False\n",
        "                while not done:\n",
        "                    action, _ = agent_select_action_func(\n",
        "                                    next(rng),\n",
        "                                    agent_params,\n",
        "                                    agent_actor_state,\n",
        "                                    np.array(obs),\n",
        "                                    evaluation=True\n",
        "                                )\n",
        "\n",
        "                    obs, reward, done, _ = eval_env.step(int(action))\n",
        "\n",
        "                    evaluator_episode_return += reward\n",
        "\n",
        "            evaluator_episode_return /= evaluation_episodes\n",
        "\n",
        "            evaluator_episode_returns.append(evaluator_episode_return)\n",
        "\n",
        "            logs = [\n",
        "                    f\"Episode: {episode}\",\n",
        "                    f\"Episode Return: {episode_return}\",\n",
        "                    f\"Average Episode Return: {np.mean(episode_returns[-20:])}\",\n",
        "                    f\"Evaluator Episode Return: {evaluator_episode_return}\"\n",
        "            ]\n",
        "\n",
        "            print(*logs, sep=\"\\t\") # Print the logs\n",
        "\n",
        "    env.close()\n",
        "    eval_env.close()\n",
        "\n",
        "    return episode_returns, evaluator_episode_returns"
      ]
    },
    {
      "cell_type": "markdown",
      "metadata": {
        "id": "CTPlIq4oDBPY"
      },
      "source": [
        "##2. Случайный поиск политики (RPS)\n",
        "В разделе 1 мы использовали фиксированный набор параметров для нашей политики. То есть мы не изучали параметры $\\pi$ $\\theta$, мы просто сохранили их фиксированными ( `params = [1,-2,2,-1]`).\n",
        "\n",
        "Теперь мы реализуем случайный поиск политики (RPS), который представляет собой алгоритм, который случайным образом пробует различные параметры политики и отслеживает лучшие параметры, найденные на данный момент. Мы скажем, что параметры политики $\\theta_A$ лучше параметров $\\theta_B$, если средний возврат эпизода, достигнутый за последние 20 эпизодов политикой с параметрами $\\theta_A$, больше, чем у политики с параметрами $\\theta_B$.\n",
        "\n",
        "Чтобы отслеживать «текущие» параметры, а также «лучшие» параметры, мы будем использовать [NamedTuple](https://www.geeksforgeeks.org/namedtuple-in-python/)."
      ]
    },
    {
      "cell_type": "code",
      "execution_count": null,
      "metadata": {
        "id": "1DcaC-PQRjM1",
        "colab": {
          "base_uri": "https://localhost:8080/"
        },
        "outputId": "a28b0092-7b26-486d-8734-1b69a0c46e39"
      },
      "outputs": [
        {
          "output_type": "stream",
          "name": "stdout",
          "text": [
            "Best params: [0. 0. 0. 0.]\n",
            "Current params: [-1. -1. -1. -1.]\n"
          ]
        }
      ],
      "source": [
        "# Parameter container for Random Policy Search\n",
        "RandomPolicySearchParams = collections.namedtuple(\"RandomPolicySearchParams\", [\"current\", \"best\"])\n",
        "\n",
        "# TEST: store two different sets of parameters\n",
        "current_params = np.ones(obs_shape) * -1\n",
        "best_params = np.zeros(obs_shape)\n",
        "rps_params = RandomPolicySearchParams(current_params, best_params)\n",
        "\n",
        "# How to access the best or current params.\n",
        "print(f\"Best params: {rps_params.best}\")\n",
        "print(f\"Current params: {rps_params.current}\")"
      ]
    },
    {
      "cell_type": "markdown",
      "metadata": {
        "id": "v91pDDzGex9a"
      },
      "source": [
        "Далее мы реализуем следующее:\n",
        "- **Функция выбора действия RPS** - определяет, как мы выбираем действия с учетом набора параметров.\n",
        "- **Модуль памяти RPS** - определяет, какой опыт хранить из взаимодействий со средой.\n",
        "- **Функция обучения RPS** - определяет, как мы обновляем и улучшаем параметры нашей политики."
      ]
    },
    {
      "cell_type": "markdown",
      "metadata": {
        "id": "0tExceGeGNYH"
      },
      "source": [
        "### Функция выбора действия RPS\n",
        "Давайте реализуем функцию с именем `random_policy_search_choose_action`, которую мы можем передать в цикл обучения. Функция должна принимать несколько аргументов, чтобы она могла хорошо взаимодействовать с нашим обобщенным циклом обучения, но вам нужно будет использовать только три из них - `params`, `obs` и `evaluation`.\n",
        "\n",
        "- `params` - это экземпляр `RandomPolicySearchParams` с \"current\" и \"best\".\n",
        "- `obs` - это последнее наблюдение из среды.\n",
        "- `evaluation` - это логическое значение, которое указывает, следует ли нам использовать параметры \"current\" или \"best\". Когда `evaluation==True`, мы должны использовать параметры \"best\", в противном случае мы должны использовать параметры \"current\".\n",
        "\n",
        "**Упражнение 3:** Реализуйте функцию `random_policy_search_choose_action`, как описано выше. Вам следует использовать метод `linear_policy`, который мы определили ранее. Вам также понадобится `jax.lax.select()` для условного возврата \"лучшего\" действия или \"текущего\" действия."
      ]
    },
    {
      "cell_type": "code",
      "execution_count": null,
      "metadata": {
        "id": "1kmwT35JRjM1"
      },
      "outputs": [],
      "source": [
        "def random_policy_search_choose_action(\n",
        "    key,\n",
        "    params,\n",
        "    actor_state,\n",
        "    obs,\n",
        "    evaluation=False\n",
        "):\n",
        "  \"\"\"Random policy search select action method.\n",
        "\n",
        "  Args:\n",
        "    key: a random number (seed). Not used in this function.\n",
        "    params: the agent's parameters. In this case an instance of `RandomPolicySearchParams`\n",
        "    actor_state: some extra information about the actor. Not used in this function.\n",
        "    obs: the latest observation.\n",
        "    evaluation: a boolean indicating whether to use the best \"parameters\" or the \"current\" ones.\n",
        "\n",
        "  Returns:\n",
        "    The chosen action and the updated actor_state. In this function the actor_state is not updated.\n",
        "  \"\"\"\n",
        "\n",
        "  # YOUR CODE\n",
        "\n",
        "\n",
        "  best_action = linear_policy(params.best, obs)\n",
        "\n",
        "  current_action = linear_policy(params.current, obs)\n",
        "\n",
        "  action = jax.lax.select(\n",
        "      evaluation,\n",
        "      best_action,\n",
        "      current_action\n",
        "  )\n",
        "\n",
        "  # END YOUR CODE\n",
        "\n",
        "  return action, actor_state"
      ]
    },
    {
      "cell_type": "code",
      "execution_count": null,
      "metadata": {
        "id": "YE4xoAgyI3kG",
        "colab": {
          "base_uri": "https://localhost:8080/"
        },
        "outputId": "929b22d6-c03a-47fa-cade-61c31fa3a701"
      },
      "outputs": [
        {
          "output_type": "stream",
          "name": "stdout",
          "text": [
            "Your function looks correct.\n"
          ]
        }
      ],
      "source": [
        "# @title Проверка упр 3 (run me) {display-mode: \"form\"}\n",
        "\n",
        "def check_random_policy_search_choose_action(choose_action):\n",
        "  key = None # not used\n",
        "  actor_state = None # not used\n",
        "\n",
        "  # obs\n",
        "  obs = np.ones(obs_shape)\n",
        "\n",
        "  evaluation=False\n",
        "  current_params = np.ones(obs_shape) * -1\n",
        "  best_params = np.ones(obs_shape)\n",
        "  rps_params = RandomPolicySearchParams(current_params, best_params)\n",
        "  action, actor_state = choose_action(key,rps_params,actor_state,obs,evaluation)\n",
        "  if action != 0:\n",
        "    return False\n",
        "\n",
        "  evaluation=True\n",
        "  current_params = np.ones(obs_shape) * -1\n",
        "  best_params = np.ones(obs_shape)\n",
        "  rps_params = RandomPolicySearchParams(current_params, best_params)\n",
        "  action, actor_state = choose_action(key,rps_params,actor_state,obs,evaluation)\n",
        "  if action != 1:\n",
        "    return False\n",
        "\n",
        "  return True\n",
        "\n",
        "try:\n",
        "  if check_random_policy_search_choose_action(random_policy_search_choose_action):\n",
        "    print(\"Your function looks correct.\")\n",
        "  else:\n",
        "    print(\"Your function looks incorrect.\")\n",
        "except Exception as e:\n",
        "    print(\"An Error Occured: {}\".format(e))"
      ]
    },
    {
      "cell_type": "markdown",
      "metadata": {
        "id": "6zu51ep7Sh0M"
      },
      "source": [
        "### Память агента RPS\n",
        "\n",
        "Для алгоритма поиска случайной политики нам нужно будет отслеживать средний возврат эпизода для последних 50 эпизодов. Помните, что мы сказали, что «текущие» параметры будут считаться «лучшими» параметрами, если средний возврат эпизода при использовании этих параметров больше предыдущего лучшего среднего возврата эпизода.\n",
        "\n",
        "Мы будем использовать интерфейс памяти общего назначения, который довольно прост. Модуль памяти должен иметь три метода. Первый — это функция `memory.push(<transition>)`, которая добавляет некоторую информацию о последнем переходе среды в память. Второй — это функция `memory.is_ready()`, которая проверяет, готова ли память к обучению. Наконец, функция `memory.sample()` должна возвращать последний набор воспоминаний, которые можно передать в `agent_learn_func`.\n",
        "\n",
        "#### Память среднего возврата эпизода\n",
        "Мы создали для вас простой модуль памяти агента. Он хранит `epsisode_returns` последних 20 эпизодов. Прочитайте нашу реализацию ниже и посмотрите, сможете ли вы ее понять. Метод `memory.sample()` возвращает средний возврат эпизода за последние 20 эпизодов."
      ]
    },
    {
      "cell_type": "code",
      "execution_count": null,
      "metadata": {
        "id": "YVkTBIK5RjM1"
      },
      "outputs": [],
      "source": [
        "class AverageEpisodeReturnBuffer:\n",
        "\n",
        "    def __init__(self, num_episodes_to_store=50):\n",
        "        \"\"\"\n",
        "        This class implements an agent memory that stores the average episode\n",
        "        return over the last 50 episodes.\n",
        "        \"\"\"\n",
        "        self.num_episodes_to_store = num_episodes_to_store\n",
        "        self.episode_return_buffer = []\n",
        "        self.current_episode_return = 0\n",
        "\n",
        "    def push(self, transition):\n",
        "        self.current_episode_return += transition.reward\n",
        "\n",
        "        if transition.done: # If the episode is done\n",
        "            # Add episode return to buffer\n",
        "            self.episode_return_buffer.append(self.current_episode_return)\n",
        "\n",
        "            # Reset episode return\n",
        "            self.current_episode_return = 0\n",
        "\n",
        "\n",
        "    def is_ready(self):\n",
        "        return len(self.episode_return_buffer) == self.num_episodes_to_store\n",
        "\n",
        "    def sample(self):\n",
        "        average_episode_return = np.mean(self.episode_return_buffer)\n",
        "\n",
        "        # Clear episode return buffer\n",
        "        self.episode_return_buffer = []\n",
        "\n",
        "        return average_episode_return"
      ]
    },
    {
      "cell_type": "markdown",
      "metadata": {
        "id": "0oXBsSa2KjWE"
      },
      "source": [
        "### Функция обучения RPS\n",
        "Наконец, нам нужно реализовать функцию `random_policy_search_learn` для нашего алгоритма поиска случайной политики. Функция обучения довольно проста. Все, что нам нужно сделать, это проверить, лучше ли текущие параметры, чем лучшие параметры. Если они лучше, то установите лучшие параметры в качестве текущих параметров и случайным образом сгенерируйте новый набор текущих параметров.\n",
        "\n",
        "**Упражнение 4:** Напишите функцию для случайной генерации новых весов с использованием JAX. Веса должны быть выбраны из интервала `[-2,2]`.\n",
        "\n",
        "**Полезные функции:**\n",
        "*   `jax.random.uniform` ([docs](https://jax.readthedocs.io/en/latest/_autosummary/jax.random.uniform.html#jax.random.uniform))\n",
        "\n"
      ]
    },
    {
      "cell_type": "code",
      "execution_count": null,
      "metadata": {
        "id": "8V2yFM2XMjGW"
      },
      "outputs": [],
      "source": [
        "def get_new_random_weights(random_key, old_weights, minval=-2.0, maxval=2.0):\n",
        "    new_weights_shape = old_weights.shape # you will need to use these values\n",
        "    new_weights_dtype = old_weights.dtype # you will need to use these values\n",
        "\n",
        "    # YOUR CODE\n",
        "\n",
        "    new_params = jax.random.uniform(random_key, shape=new_weights_shape, dtype=new_weights_dtype, minval=minval, maxval=maxval)\n",
        "    print(new_params)\n",
        "    # END YOUR CODE\n",
        "\n",
        "    return new_params"
      ]
    },
    {
      "cell_type": "code",
      "execution_count": null,
      "metadata": {
        "id": "T8ifHTKGQlAd",
        "colab": {
          "base_uri": "https://localhost:8080/"
        },
        "outputId": "53806189-173c-408e-8783-9e78f88a1749"
      },
      "outputs": [
        {
          "output_type": "stream",
          "name": "stdout",
          "text": [
            "[ 0.29657745  1.4265499  -1.7621555  -1.7505779 ]\n",
            "Function is correct!\n"
          ]
        }
      ],
      "source": [
        "# @title Проверка упр 4 (run me) {display-mode: \"form\"}\n",
        "\n",
        "def check_get_new_random_weights(get_new_random_weights):\n",
        "  old_weights = np.ones(obs_shape, \"float32\")\n",
        "  random_key = jax.random.PRNGKey(42)\n",
        "\n",
        "  # Case 1\n",
        "  new_weights = get_new_random_weights(random_key, old_weights, minval=-2.0, maxval=2.0)\n",
        "\n",
        "  if jnp.array_equal(new_weights, jnp.array([ 0.29657745,1.4265499, -1.7621555, -1.7505779 ])):\n",
        "    print(\"Function is correct!\")\n",
        "  else:\n",
        "    print(\"Something is wrong.\")\n",
        "\n",
        "try:\n",
        "  check_get_new_random_weights(get_new_random_weights)\n",
        "except Exception as e:\n",
        "    print(\"An Error Occured: {}\".format(e))"
      ]
    },
    {
      "cell_type": "markdown",
      "metadata": {
        "id": "2Djxc9j-LzkM"
      },
      "source": [
        "Наша функция обучения получает память в форме среднего возврата эпизода из `AverageEpisodeReturnMemory`, которую мы реализовали ранее. Мы можем использовать это для сравнения текущих параметров с лучшими параметрами. Но нам также нужно будет отслеживать лучший средний возврат эпизода для функции обучения. Для этого мы можем использовать аргумент `learn_state`, который передается в `agent_learn_func` в нашем цикле обучения. Как и в случае с `RandomPolicySearchParams`, мы будем использовать NamedTuple для хранения `best_average_episode_return` в `learn_state`."
      ]
    },
    {
      "cell_type": "code",
      "execution_count": null,
      "metadata": {
        "id": "4cSH4uYmRjM2",
        "colab": {
          "base_uri": "https://localhost:8080/"
        },
        "outputId": "a6874fac-ffca-4e2c-c04e-975188074a44"
      },
      "outputs": [
        {
          "output_type": "stream",
          "name": "stdout",
          "text": [
            "Initial best average episode return: -inf\n"
          ]
        }
      ],
      "source": [
        "# A NamedTuple to store the best average episode return so far\n",
        "RandomPolicyLearnState = collections.namedtuple(\n",
        "  \"RandomPolicyLearnState\",\n",
        "  [\"best_average_episode_return\"]\n",
        ")\n",
        "\n",
        "# Test\n",
        "initial_learn_state = RandomPolicyLearnState(best_average_episode_return=-float(\"inf\"))\n",
        "print(\"Initial best average episode return:\", initial_learn_state.best_average_episode_return)"
      ]
    },
    {
      "cell_type": "markdown",
      "metadata": {
        "id": "PxZXdP8bOu6b"
      },
      "source": [
        "Теперь у нас есть все необходимое для реализации функции `random_policy_search_learn`.\n",
        "\n",
        "**Упражнение 5:** Реализуйте функцию `random_policy_search_learn`. Функция должна проверять, лучше ли «текущие» параметры, чем «лучшие» параметры, сравнивая `current_average_episode_return` с `best_average_episode_return`. Функция также должна обновлять `learn_state`."
      ]
    },
    {
      "cell_type": "code",
      "execution_count": null,
      "metadata": {
        "id": "Te_Q3qzmZcN_"
      },
      "outputs": [],
      "source": [
        "def random_policy_search_learn(key, params, learn_state, memory):\n",
        "    best_params = params.best\n",
        "    current_params = params.current\n",
        "\n",
        "    current_average_episode_return = memory # the memory contains the average episode return\n",
        "    best_average_episode_return = learn_state.best_average_episode_return\n",
        "\n",
        "\n",
        "    # YOUR CODE\n",
        "\n",
        "    best_params = jax.lax.select(\n",
        "        current_average_episode_return > best_average_episode_return,\n",
        "        current_params,\n",
        "        best_params\n",
        "    )\n",
        "\n",
        "    best_average_episode_return = jax.lax.select(\n",
        "        current_average_episode_return > best_average_episode_return,\n",
        "        current_average_episode_return,\n",
        "        best_average_episode_return\n",
        "    )\n",
        "\n",
        "    # END YOUR CODE\n",
        "\n",
        "    # Generate new random parameters\n",
        "    new_params = get_new_random_weights(key, current_params)\n",
        "\n",
        "    # Bundle weights in RandomPolicySearchParams NamedTuple\n",
        "    params = RandomPolicySearchParams(current=new_params, best=best_params)\n",
        "\n",
        "    return params, RandomPolicyLearnState(best_average_episode_return)"
      ]
    },
    {
      "cell_type": "code",
      "execution_count": null,
      "metadata": {
        "id": "CXHV4k2iBLBF",
        "colab": {
          "base_uri": "https://localhost:8080/"
        },
        "outputId": "1c1110da-b32d-42d0-f847-d65153d78232"
      },
      "outputs": [
        {
          "output_type": "stream",
          "name": "stdout",
          "text": [
            "[ 0.29657745  1.4265499  -1.7621555  -1.7505779 ]\n",
            "Your function looks correct.\n"
          ]
        }
      ],
      "source": [
        "#@title Проверка упр 5 {display-mode: \"form\"}\n",
        "\n",
        "params = RandomPolicySearchParams(np.ones(obs_shape, \"float32\"), np.ones(obs_shape, \"float32\") * -1)\n",
        "learn_state = RandomPolicyLearnState(10)\n",
        "memory = 11\n",
        "key = jax.random.PRNGKey(42)\n",
        "\n",
        "try:\n",
        "  new_params, new_learn_state = random_policy_search_learn(key, params, learn_state, memory)\n",
        "\n",
        "  if not jnp.array_equal(new_params.current, jnp.array([ 0.29657745,  1.4265499 , -1.7621555 , -1.7505779 ])):\n",
        "    print(\"Your function is incorrect.\")\n",
        "\n",
        "  elif not jnp.array_equal(new_params.best, jnp.array([1., 1., 1., 1.])):\n",
        "    print(\"Your function is incorrect.\")\n",
        "\n",
        "  elif new_learn_state.best_average_episode_return != 11:\n",
        "    print(\"Your function is incorrect.\")\n",
        "\n",
        "  else:\n",
        "    print(\"Your function looks correct.\")\n",
        "except Exception as e:\n",
        "    print(\"An Error Occured: {}\".format(e))"
      ]
    },
    {
      "cell_type": "markdown",
      "metadata": {
        "id": "5Ol_AxnMBdgP"
      },
      "source": [
        "### Цикл обучения RPS\n",
        "Теперь мы можем собрать все вместе, передав модуль `memory`, функцию `learn` и функцию `choose_action` в цикл обучения. Чтобы ускорить наш алгоритм, мы будем использовать `jax.jit` в функции `learn` и функции `choose_action`."
      ]
    },
    {
      "cell_type": "code",
      "execution_count": null,
      "metadata": {
        "id": "Qx57tf7vRjM3",
        "colab": {
          "base_uri": "https://localhost:8080/",
          "height": 715
        },
        "outputId": "97fc45cf-dd02-448b-f77d-50cee2658d6e"
      },
      "outputs": [
        {
          "output_type": "stream",
          "name": "stdout",
          "text": [
            "Starting training. This may take up to 5 minutes to complete.\n",
            "Episode: 0\tEpisode Return: 80.0\tAverage Episode Return: 80.0\tEvaluator Episode Return: 149.375\n",
            "Traced<ShapedArray(float32[4])>with<DynamicJaxprTrace(level=1/0)>\n",
            "Traced<ShapedArray(float32[4])>with<DynamicJaxprTrace(level=1/0)>\n",
            "Episode: 100\tEpisode Return: 58.0\tAverage Episode Return: 11.8\tEvaluator Episode Return: 114.5\n",
            "Episode: 200\tEpisode Return: 9.0\tAverage Episode Return: 92.15\tEvaluator Episode Return: 122.375\n",
            "Episode: 300\tEpisode Return: 9.0\tAverage Episode Return: 9.25\tEvaluator Episode Return: 135.375\n",
            "Episode: 400\tEpisode Return: 9.0\tAverage Episode Return: 9.35\tEvaluator Episode Return: 126.75\n",
            "Episode: 500\tEpisode Return: 41.0\tAverage Episode Return: 44.4\tEvaluator Episode Return: 122.75\n",
            "Episode: 600\tEpisode Return: 80.0\tAverage Episode Return: 13.5\tEvaluator Episode Return: 143.625\n",
            "Episode: 700\tEpisode Return: 55.0\tAverage Episode Return: 11.4\tEvaluator Episode Return: 130.875\n",
            "Episode: 800\tEpisode Return: 172.0\tAverage Episode Return: 71.4\tEvaluator Episode Return: 120.875\n",
            "Episode: 900\tEpisode Return: 10.0\tAverage Episode Return: 120.25\tEvaluator Episode Return: 150.25\n",
            "Episode: 1000\tEpisode Return: 200.0\tAverage Episode Return: 43.75\tEvaluator Episode Return: 106.625\n"
          ]
        },
        {
          "output_type": "display_data",
          "data": {
            "text/plain": [
              "<Figure size 640x480 with 1 Axes>"
            ],
            "image/png": "[encoded data removed]"
          },
          "metadata": {}
        }
      ],
      "source": [
        "# JIT the learn and choose action functions\n",
        "random_policy_search_learn_jit = jax.jit(random_policy_search_learn)\n",
        "random_policy_search_choose_action_jit = jax.jit(random_policy_search_choose_action)\n",
        "\n",
        "# Initialise the parameters\n",
        "initial_weights = np.ones(obs_shape, \"float32\")\n",
        "initial_params = RandomPolicySearchParams(initial_weights, initial_weights)\n",
        "\n",
        "# Initialise the learn state\n",
        "initial_learn_state = RandomPolicyLearnState(best_average_episode_return=-float(\"inf\"))\n",
        "\n",
        "# Initialise memory\n",
        "memory = AverageEpisodeReturnBuffer(num_episodes_to_store=50)\n",
        "\n",
        "# Run the training loop\n",
        "print(\"Starting training. This may take up to 5 minutes to complete.\")\n",
        "chex.clear_trace_counter()\n",
        "episode_return, evaluator_episode_returns = run_training_loop(\n",
        "                                        env_name,\n",
        "                                        initial_params,\n",
        "                                        random_policy_search_choose_action_jit,\n",
        "                                        None, # no actor state\n",
        "                                        random_policy_search_learn_jit,\n",
        "                                        initial_learn_state,\n",
        "                                        memory,\n",
        "                                        num_episodes=1001,\n",
        "                                        video_subdir=\"rps\"\n",
        "                                    )\n",
        "\n",
        "# Plot graph of evaluator episode returns\n",
        "plt.plot(np.linspace(0, 1000, len(evaluator_episode_returns)), evaluator_episode_returns)\n",
        "plt.title(\"Random Policy Search\")\n",
        "plt.xlabel(\"Episodes\")\n",
        "plt.ylabel(\"Episode Return\")\n",
        "plt.show()"
      ]
    },
    {
      "cell_type": "markdown",
      "metadata": {
        "id": "TG10FG6uS05A"
      },
      "source": [
        "Надеюсь, вы нашли набор оптимальных параметров на CartPole (возврат эпизода достигает `200`). В ячейке ниже вы можете посмотреть несколько видеороликов агента, выполняющего задание."
      ]
    },
    {
      "cell_type": "code",
      "execution_count": null,
      "metadata": {
        "id": "KgayDJ7KWC4C",
        "colab": {
          "base_uri": "https://localhost:8080/",
          "height": 288
        },
        "outputId": "499c065f-ecde-4f9c-97f6-97a9014ab2fc"
      },
      "outputs": [
        {
          "output_type": "execute_result",
          "data": {
            "text/plain": [
              "<IPython.core.display.HTML object>"
            ],
            "text/html": [
              "\n",
              "<video width=400 controls>\n",
              "      <source src=\"data:video/mp4;base64,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\" type=\"video/mp4\">\n",
              "</video>\n"
            ]
          },
          "metadata": {},
          "execution_count": 112
        }
      ],
      "source": [
        "#@title Visualise Policy {display-mode: \"form\"}\n",
        "#@markdown Choose an episode number that is a multiple of 100 and less than or equal to 2000, and **run** this cell.\n",
        "episode_number = 0 #@param {type:\"number\"}\n",
        "\n",
        "assert (episode_number % 100) == 0, \"Episode number must be a multiple of 100 since we only record every 100th episode.\"\n",
        "assert episode_number < 1001, \"Episode number must be less than or equal to 2000\"\n",
        "\n",
        "eval_episode_number = int(episode_number / 100 * 8)\n",
        "video_path = f\"./video/rps/eval/rl-video-episode-{eval_episode_number}.mp4\"\n",
        "\n",
        "mp4 = open(video_path,'rb').read()\n",
        "data_url = \"data:video/mp4;base64,\" + b64encode(mp4).decode()\n",
        "HTML(\"\"\"\n",
        "<video width=400 controls>\n",
        "      <source src=\"%s\" type=\"video/mp4\">\n",
        "</video>\n",
        "\"\"\" % data_url)"
      ]
    },
    {
      "cell_type": "markdown",
      "metadata": {
        "id": "Xwf1IKKbrrVn"
      },
      "source": [
        "Итак, случайный поиск политики справился с этой задачей довольно хорошо. Однако здесь происходит очень мало (если вообще происходит) реального *обучения*. Далее давайте рассмотрим реализацию простого алгоритма RL, который может использовать свой опыт для руководства нашим поиском оптимальной политики, а не просто искать ее случайным образом."
      ]
    },
    {
      "cell_type": "markdown",
      "metadata": {
        "id": "XEnSjZVESrxc"
      },
      "source": [
        "## 3. Градиенты политики  (Policy Gradients, PG)\n",
        "Как обсуждалось, цель RL — найти политику, которая максимизирует ожидаемое совокупное вознаграждение (возврат), которое агент получает от среды. Мы можем записать ожидаемый возврат политики как:\n",
        "\n",
        "$J(\\pi_\\theta)=\\mathrm{E}_{\\tau\\sim\\pi_\\theta}\\ [R(\\tau)]$,\n",
        "\n",
        "где $\\pi_\\theta$ — это политика, параметризованная $\\theta$, $\\mathrm{E}$ означает *ожидание*, $\\tau$ — это сокращение для \"*эпизод*\", $\\tau\\sim\\pi_\\theta$ — это сокращение для \"*эпизоды, выбранные с использованием политики* $\\pi_\\theta$\", а $R(\\tau)$ — это возврат эпизода $\\tau$.\n",
        "\n",
        "Затем, цель в RL — найти параметры $\\theta$, которые максимизируют функцию $J(\\pi_\\theta)$. Один из способов найти эти параметры — выполнить градиентный подъем по $J(\\pi_\\theta)$ относительно параметров $\\theta$:\n",
        "\n",
        "$\\theta_{k+1}=\\theta_k + \\alpha \\nabla J(\\pi_\\theta)|_{\\theta_{k}}$,\n",
        "\n",
        "где $\\nabla J(\\pi_\\theta)|_{\\theta_{k}}$ — градиент ожидаемой доходности относительно параметров политики $\\theta_k$, а $\\alpha$ — размер шага. Эта величина, $\\nabla J(\\pi_\\theta)$, также называется **градиентом политики** и очень важна в RL. Если мы сможем вычислить градиент политики, то у нас будет средство, с помощью которого можно напрямую оптимизировать нашу политику.\n",
        "\n",
        "Как оказалось, у нас есть способ вычислить градиент политики, и математический вывод можно найти [здесь](https://spinningup.openai.com/en/latest/spinningup/rl_intro3.html). Но для этого руководства мы опустим вывод и просто дадим вам результат:\n",
        "\n",
        "$\\nabla_{\\theta} J(\\pi_{\\theta})=\\underset{\\tau \\sim \\pi_{\\theta}}{\\mathrm{E}}[\\sum_{t=0}^{T} \\nabla_{\\theta} \\log \\pi_{\\theta}(a_{t} \\mid s_{t}) R(\\tau)]$\n",
        "\n",
        "Неформально, градиент политики равен градиенту логарифма вероятности выбранного действия, умноженного на возврат эпизода, в котором было предпринято действие.\n"
      ]
    },
    {
      "cell_type": "markdown",
      "metadata": {
        "id": "BTnTzgtSuy-y"
      },
      "source": [
        "### REINFORCE\n",
        "REINFORCE — это простой алгоритм RL, который использует градиент политики для поиска оптимальной политики путем увеличения вероятности выбора действий (усиливающих действий), которые, как правило, приводят к эпизодам с высокой отдачей.\n",
        "\n",
        "**Упражнение 6:** Реализуйте функцию, которая берет вероятность действия и отдачу эпизода, в котором действие было предпринято, и вычисляет логарифм вероятности, умноженный на отдачу. Убедитесь, что вы используете JAX.\n",
        "\n",
        "**Полезные функции:**\n",
        "*   `jax.numpy.log`([docs](https://jax.readthedocs.io/en/latest/_autosummary/jax.numpy.log.html))"
      ]
    },
    {
      "cell_type": "code",
      "execution_count": null,
      "metadata": {
        "id": "bJObUsoUrOyV"
      },
      "outputs": [],
      "source": [
        "def compute_weighted_log_prob(action_prob, episode_return):\n",
        "\n",
        "    # YOUR CODE\n",
        "\n",
        "    log_prob = jnp.log(action_prob)\n",
        "\n",
        "    weighted_log_prob = log_prob * episode_return\n",
        "\n",
        "    # END YOUR CODE\n",
        "\n",
        "    return weighted_log_prob"
      ]
    },
    {
      "cell_type": "code",
      "execution_count": null,
      "metadata": {
        "id": "eZPoTwa1Gbm1",
        "colab": {
          "base_uri": "https://localhost:8080/"
        },
        "outputId": "0e0c66cf-9d04-4004-e471-de2d417185d3"
      },
      "outputs": [
        {
          "output_type": "stream",
          "name": "stdout",
          "text": [
            "Looks correct.\n"
          ]
        }
      ],
      "source": [
        "#@title Проверка упр 6 {display-mode: \"form\"}\n",
        "\n",
        "try:\n",
        "  action_prob = 0.8\n",
        "  episode_return = 100\n",
        "  result = compute_weighted_log_prob(action_prob, episode_return)\n",
        "  if result != -22.314354:\n",
        "    print(\"Your implementation looks incorrect.\")\n",
        "  else:\n",
        "    print(\"Looks correct.\")\n",
        "except Exception as e:\n",
        "    print(\"An Error Occured: {}\".format(e))"
      ]
    },
    {
      "cell_type": "markdown",
      "metadata": {
        "id": "NmgW9UJ3tIpl"
      },
      "source": [
        "### Rewards-to-go\n",
        "Выполнение градиентного подъема по градиенту логарифма вероятности действия, взвешенного по возврату эпизода, будет иметь тенденцию повышать вероятность действий, которые были в эпизодах с высоким возвратом, независимо от того, *где* в эпизоде ​​было выполнено действие. Это на самом деле не имеет большого смысла, потому что действие ближе к концу эпизода может быть подкреплено, потому что много вознаграждения было собрано ранее в эпизоде, *до* того, как было выполнено действие. Агенты RL должны на самом деле подкреплять действия только на основе их *последствий*. Вознаграждения, полученные до выполнения действия, не влияют на то, насколько хорошим было это действие: только вознаграждения, которые приходят после. Накопленные вознаграждения, полученные после выполнения действия, называются **вознаграждениями-к-переходу** и могут быть вычислены как:\n",
        "\n",
        "$\\hat{R}_i=\\sum_{t=i}^Tr_t$\n",
        "\n",
        "Сравните это с доходностью эпизода:\n",
        "\n",
        "$R(\\tau)=\\sum_{t=0}^Tr_t$\n",
        "\n",
        "Мы можем повысить надежность градиента политики, заменив доходность эпизода на вознаграждения-к-переходу. Градиент политики с оставшимися наградами задается следующим образом:\n",
        "\n",
        "$\\nabla_{\\theta} J(\\pi_{\\theta})=\\underset{\\tau \\sim \\pi_{\\theta}}{\\mathrm{E}}[\\sum_{t=0}^{T} \\nabla_{\\theta} \\log \\pi_{\\theta}(a_{t} \\mid s_{t}) \\hat{R}_t]$\n",
        "\n",
        "**Упражнение 7:** Реализуйте функцию, которая берет список всех наград, полученных в эпизоде, и вычисляет оставшиеся награды. Не беспокойтесь об использовании JAX в этой функции. Вы можете использовать обычные операции Python, такие как `for-loops`."
      ]
    },
    {
      "cell_type": "code",
      "execution_count": null,
      "metadata": {
        "id": "nV1Hww8E3dUJ"
      },
      "outputs": [],
      "source": [
        "def compute_rewards_to_go(rewards):\n",
        "    \"\"\"\n",
        "    This function should take a list of rewards as input and\n",
        "    compute the rewards-to-go for each timestep.\n",
        "\n",
        "    EXAMPLE: compute_rewards_to_go([1,2,3,4]) = [10, 9, 7, 4]\n",
        "\n",
        "    Arguments:\n",
        "        rewards[t] is the reward at time step t.\n",
        "\n",
        "    Returns:\n",
        "        rewards_to_go[t] should be the reward-to-go at timestep t.\n",
        "    \"\"\"\n",
        "\n",
        "    rewards_to_go = []\n",
        "    sum_rewards = 0\n",
        "\n",
        "    # YOUR CODE\n",
        "    for i in range(len(rewards) - 1, -1, -1):\n",
        "        sum_rewards += rewards[i]\n",
        "        rewards_to_go.insert(0, sum_rewards)\n",
        "\n",
        "    # END YOUR CODE\n",
        "\n",
        "    return rewards_to_go"
      ]
    },
    {
      "cell_type": "code",
      "execution_count": null,
      "metadata": {
        "id": "hLVaVRp28YGI",
        "colab": {
          "base_uri": "https://localhost:8080/"
        },
        "outputId": "c1242461-0c68-4bf0-95e2-600f8a8cadbf"
      },
      "outputs": [
        {
          "output_type": "stream",
          "name": "stdout",
          "text": [
            "Looks correct.\n"
          ]
        }
      ],
      "source": [
        "#@title Проверка упр 7 {display-mode: \"form\"}\n",
        "\n",
        "try:\n",
        "  result = compute_rewards_to_go([1,2,3,4])\n",
        "\n",
        "  if result != [10, 9, 7, 4]:\n",
        "    print(\"There is a problem with your implementation.\")\n",
        "  else:\n",
        "    print(\"Looks correct.\")\n",
        "except Exception as e:\n",
        "    print(\"An Error Occured: {}\".format(e))\n"
      ]
    },
    {
      "cell_type": "markdown",
      "metadata": {
        "id": "IboxN9MS65i5"
      },
      "source": [
        "### REINFORCE memory\n",
        "Далее нам нужно будет создать новую память агента для хранения вознаграждений $\\hat{R}_t$ вместе с наблюдением $o_t$ и действием $a_t$ на каждом временном шаге. Ниже мы реализовали такой модуль памяти для вас. Функция `memory.sample()` вернет пакет из последних 500 воспоминаний. Вы можете прочитать код, чтобы попытаться понять его, но это не обязательно. Поэтому мы скрываем код по умолчанию."
      ]
    },
    {
      "cell_type": "code",
      "execution_count": null,
      "metadata": {
        "id": "xhS4V6auRjM3"
      },
      "outputs": [],
      "source": [
        "# @title Реализация памяти (run me) {display-mode: \"form\"}\n",
        "\n",
        "# NamedTuple to store memory\n",
        "EpisodeRewardsToGoMemory = collections.namedtuple(\"EpisodeRewardsToGoMemory\", [\"obs\", \"action\", \"reward_to_go\"])\n",
        "\n",
        "class EpisodeRewardsToGoBuffer:\n",
        "\n",
        "    def __init__(self, num_transitions_to_store=512, batch_size=256):\n",
        "        self.batch_size = batch_size\n",
        "        self.memory_buffer = collections.deque(maxlen=num_transitions_to_store)\n",
        "        self.current_episode_transition_buffer = []\n",
        "\n",
        "    def push(self, transition):\n",
        "        self.current_episode_transition_buffer.append(transition)\n",
        "\n",
        "        if transition.done:\n",
        "\n",
        "            episode_rewards = []\n",
        "            for t in self.current_episode_transition_buffer:\n",
        "                episode_rewards.append(t.reward)\n",
        "\n",
        "            r2g = compute_rewards_to_go(episode_rewards)\n",
        "\n",
        "            for i, t in enumerate(self.current_episode_transition_buffer):\n",
        "                memory = EpisodeRewardsToGoMemory(t.obs, t.action, r2g[i])\n",
        "                self.memory_buffer.append(memory)\n",
        "\n",
        "            # Reset episode buffer\n",
        "            self.current_episode_transition_buffer = []\n",
        "\n",
        "\n",
        "    def is_ready(self):\n",
        "        return len(self.memory_buffer) >= self.batch_size\n",
        "\n",
        "    def sample(self):\n",
        "        random_memory_sample = random.sample(self.memory_buffer, self.batch_size)\n",
        "\n",
        "        obs_batch, action_batch, reward_to_go_batch = zip(*random_memory_sample)\n",
        "\n",
        "        return EpisodeRewardsToGoMemory(\n",
        "            np.stack(obs_batch).astype(\"float32\"),\n",
        "            np.asarray(action_batch).astype(\"int32\"),\n",
        "            np.asarray(reward_to_go_batch).astype(\"int32\")\n",
        "        )\n",
        "\n",
        "\n",
        "# Instantiate Memory\n",
        "REINFORCE_memory = EpisodeRewardsToGoBuffer(num_transitions_to_store=512, batch_size=256)"
      ]
    },
    {
      "cell_type": "markdown",
      "metadata": {
        "id": "Idkav_aSYXvz"
      },
      "source": [
        "### Policy neural network\n",
        "Далее мы будем использовать простую нейронную сеть для аппроксимации политики. Наша нейронная сеть политики будет иметь входной слой, который принимает наблюдение в качестве входных данных и пропускает его через два скрытых слоя, а затем выводит одно скалярное значение для каждого из возможных действий. Таким образом, в CartPole выходной слой будет иметь размер `2`.\n",
        "\n",
        "[Haiku](https://github.com/deepmind/dm-haiku) — это библиотека для реализации нейронных сетей в JAX. Ниже мы реализовали простую функцию для создания сети политики для вас.\n"
      ]
    },
    {
      "cell_type": "code",
      "execution_count": null,
      "metadata": {
        "id": "j2XO7VkORjM4"
      },
      "outputs": [],
      "source": [
        "def make_policy_network(num_actions: int, layers=[20, 20]) -> hk.Transformed:\n",
        "  \"\"\"Factory for a simple MLP network for the policy.\"\"\"\n",
        "\n",
        "  def policy_network(obs):\n",
        "    network = hk.Sequential(\n",
        "        [\n",
        "            hk.Flatten(),\n",
        "            hk.nets.MLP(layers + [num_actions])\n",
        "        ]\n",
        "    )\n",
        "    return network(obs)\n",
        "\n",
        "  return hk.without_apply_rng(hk.transform(policy_network))"
      ]
    },
    {
      "cell_type": "markdown",
      "metadata": {
        "id": "1GR2y8FjaG-G"
      },
      "source": [
        "У сетей Haiku есть две важные функции, о которых вам нужно знать. Первая — `network.init(<random_key>, <input>)`, которая возвращает набор случайных начальных параметров. Второй метод — `network.apply(<params>, <input>)`, который передает входные данные через сеть, используя предоставленный набор параметров."
      ]
    },
    {
      "cell_type": "code",
      "execution_count": null,
      "metadata": {
        "id": "fJrn9o-Vatkw",
        "colab": {
          "base_uri": "https://localhost:8080/"
        },
        "outputId": "ad78cbb9-b91d-497f-c6e4-d1d7386cef0f"
      },
      "outputs": [
        {
          "output_type": "stream",
          "name": "stdout",
          "text": [
            "Initial params: dict_keys(['mlp/~/linear_0', 'mlp/~/linear_1', 'mlp/~/linear_2'])\n",
            "Policy network output: [ 0.91155875 -0.3961737 ]\n"
          ]
        }
      ],
      "source": [
        "# Example\n",
        "POLICY_NETWORK = make_policy_network(num_actions=num_actions, layers=[20,20])\n",
        "random_key = jax.random.PRNGKey(42) # random key\n",
        "dummy_obs = np.ones(obs_shape, \"float32\")\n",
        "\n",
        "# Initialise parameters\n",
        "REINFORCE_params = POLICY_NETWORK.init(random_key, dummy_obs)\n",
        "print(\"Initial params:\", REINFORCE_params.keys())\n",
        "\n",
        "# Pass input through the network\n",
        "output = POLICY_NETWORK.apply(REINFORCE_params, dummy_obs)\n",
        "print(\"Policy network output:\", output)\n"
      ]
    },
    {
      "cell_type": "markdown",
      "metadata": {
        "id": "MlouUBvoeunz"
      },
      "source": [
        "Выходы нашей сети политик — [логиты](https://qr.ae/pv4YTe). Чтобы преобразовать это в распределение вероятностей по действиям, мы передаем логиты в функцию [softmax](https://en.wikipedia.org/wiki/Softmax_function).\n",
        "\n",
        "### УСИЛЕНИЕ выбор функции действия\n",
        "\n",
        "**Упражнение 8:** Завершите функцию ниже, которая берет вектор логитов и случайным образом выбирает действие из категориального распределения, заданного логитами.\n",
        "\n",
        "**Полезные функции:**"
      ]
    },
    {
      "cell_type": "code",
      "execution_count": null,
      "metadata": {
        "id": "m3Z8DxUmeOGJ"
      },
      "outputs": [],
      "source": [
        "def sample_action(random_key, logits):\n",
        "\n",
        "  # YOUR CODE HERE\n",
        "  action = jax.random.categorical(random_key, logits)\n",
        "\n",
        "  # END YOUR code\n",
        "\n",
        "  return action"
      ]
    },
    {
      "cell_type": "code",
      "execution_count": null,
      "metadata": {
        "id": "5opHJMO0D_Ub",
        "colab": {
          "base_uri": "https://localhost:8080/"
        },
        "outputId": "a8bce0b4-8e29-478a-9409-7ca961245d74"
      },
      "outputs": [
        {
          "output_type": "stream",
          "name": "stdout",
          "text": [
            "Seems correct.\n"
          ]
        }
      ],
      "source": [
        "#@title Проверка упр 8 {display-mode: \"form\"}\n",
        "\n",
        "try:\n",
        "  random_key = jax.random.PRNGKey(42) # random key\n",
        "  action = sample_action(random_key, np.array([1,2], \"float32\"))\n",
        "  if action != 1:\n",
        "    print(\"Your function is incorrect.\")\n",
        "  else:\n",
        "    print(\"Seems correct.\")\n",
        "except Exception as e:\n",
        "    print(\"An Error Occured: {}\".format(e))"
      ]
    },
    {
      "cell_type": "markdown",
      "metadata": {
        "id": "jP5UH87VRjM4"
      },
      "source": [
        "Теперь мы можем реализовать функцию `REINFORCE_choose_action`. Мы передадим наблюдение через сеть политики для вычисления логитов, а затем передадим логиты в функцию `sample_action` для выбора и действия."
      ]
    },
    {
      "cell_type": "code",
      "execution_count": null,
      "metadata": {
        "id": "UJTzrDAZ0Ul5"
      },
      "outputs": [],
      "source": [
        "def REINFORCE_choose_action(key, params, actor_state, obs, evaluation=False):\n",
        "  obs = jnp.expand_dims(obs, axis=0) # add dummy batch dim before passing through network\n",
        "\n",
        "  # Pass obs through policy network to compute logits\n",
        "  logits = POLICY_NETWORK.apply(params, obs)\n",
        "  logits = logits[0] # remove batch dim\n",
        "\n",
        "  # Randomly sample action\n",
        "  sampled_action = sample_action(key, logits)\n",
        "\n",
        "  return sampled_action, actor_state"
      ]
    },
    {
      "cell_type": "markdown",
      "metadata": {
        "id": "NI26SLAb7iRo"
      },
      "source": [
        "Теперь, когда мы реализовали функцию `REINFORCE_choose_action`, нам осталось только создать функцию `REINFORCE_learn`. Функция обучения должна использовать функцию `weighted_log_prob`, которую мы создали ранее, чтобы вычислить потери градиента политики и применить обновления градиента к нашей нейронной сети."
      ]
    },
    {
      "cell_type": "markdown",
      "metadata": {
        "id": "36ALCJESQJ8e"
      },
      "source": [
        "### Policy gradient loss\n",
        "\n",
        "\n",
        "**Упражнение 9:** Завершите функцию `policy_gradient_loss` ниже. Функция должна вычислять вероятности действий, пропуская `logits` через функцию softmax. Затем следует извлечь вероятность заданного `action` (используя индексацию массива) и вычислить `weighted_log_prob`, используя функцию, которую мы создали ранее.\n",
        "\n",
        "**Полезные методы:**\n",
        "*   `jax.nn.softmax` ([docs](https://jax.readthedocs.io/en/latest/_autosummary/jax.nn.softmax.html))"
      ]
    },
    {
      "cell_type": "code",
      "execution_count": null,
      "metadata": {
        "id": "9sUKkqx0RjM4"
      },
      "outputs": [],
      "source": [
        "def policy_gradient_loss(action, logits, reward_to_go):\n",
        "\n",
        "  # YOUR CODE\n",
        "\n",
        "\n",
        "  all_action_probs = jax.nn.softmax(logits) # convert logits into probs\n",
        "\n",
        "  action_prob = all_action_probs[action] # using array indexing to get prob of action\n",
        "\n",
        "  weighted_log_prob = compute_weighted_log_prob(action_prob, reward_to_go)\n",
        "\n",
        "  # END YOUR CODE\n",
        "\n",
        "  loss = - weighted_log_prob # negative because we want gradient `ascent`\n",
        "  print(loss)\n",
        "  return loss"
      ]
    },
    {
      "cell_type": "code",
      "execution_count": null,
      "metadata": {
        "id": "7AMJvau1FsM5",
        "colab": {
          "base_uri": "https://localhost:8080/"
        },
        "outputId": "e67e7eea-d8ea-473e-efbb-54cbd1c544b5"
      },
      "outputs": [
        {
          "output_type": "stream",
          "name": "stdout",
          "text": [
            "3.1326165\n",
            "Your implementation looks wrong.\n"
          ]
        }
      ],
      "source": [
        "#@title Проверка упр 9 {display-mode: \"form\"}\n",
        "\n",
        "try:\n",
        "  result = policy_gradient_loss(1, np.array([1,2], \"float32\"), 10)\n",
        "  if result != 3.1326175:\n",
        "    print(\"Your implementation looks wrong.\")\n",
        "  else:\n",
        "    print(\"Looks correct.\")\n",
        "except Exception as e:\n",
        "  print(\"An Error Occured: {}\".format(e))\n"
      ]
    },
    {
      "cell_type": "markdown",
      "metadata": {
        "id": "Gzuqx1jJrwVx"
      },
      "source": [
        "Когда мы делаем шаг обновления градиента политики, мы захотим сделать это, используя пакет опыта, а не просто один опыт, как выше. Мы можем использовать функцию JAX [vmap](https://jax.readthedocs.io/en/latest/_autosummary/jax.vmap.html#jax.vmap), чтобы легко заставить нашу функцию `policy_gradient_loss` работать с пакетом опыта."
      ]
    },
    {
      "cell_type": "code",
      "execution_count": null,
      "metadata": {
        "id": "3yq4naLURjM4",
        "colab": {
          "base_uri": "https://localhost:8080/"
        },
        "outputId": "0b9730aa-e0d3-4439-d0a4-b78a65009960"
      },
      "outputs": [
        {
          "output_type": "stream",
          "name": "stdout",
          "text": [
            "Traced<ShapedArray(float32[])>with<BatchTrace(level=1/0)> with\n",
            "  val = Array([3.5583065, 1.0292372, 0.5026507], dtype=float32)\n",
            "  batch_dim = 0\n",
            "Policy gradient loss on batch: 1.6967314\n"
          ]
        }
      ],
      "source": [
        "def batched_policy_gradient_loss(params, obs_batch, action_batch, reward_to_go_batch):\n",
        "    # Get logits by passing observation through network\n",
        "    logits_batch = POLICY_NETWORK.apply(params, obs_batch)\n",
        "\n",
        "    policy_gradient_loss_batch = jax.vmap(policy_gradient_loss)(\n",
        "        action_batch,\n",
        "        logits_batch,\n",
        "        reward_to_go_batch) # add batch\n",
        "\n",
        "    # Compute mean loss over batch\n",
        "    mean_policy_gradient_loss = jnp.mean(policy_gradient_loss_batch)\n",
        "\n",
        "    return mean_policy_gradient_loss\n",
        "\n",
        "# TEST\n",
        "obs_batch = np.ones((3, *obs_shape), \"float32\")\n",
        "actions_batch = np.array([1,0,0])\n",
        "rew2go_batch = np.array([2.3, 4.3, 2.1])\n",
        "\n",
        "loss = batched_policy_gradient_loss(REINFORCE_params, obs_batch, actions_batch, rew2go_batch)\n",
        "\n",
        "print(\"Policy gradient loss on batch:\", loss)"
      ]
    },
    {
      "cell_type": "markdown",
      "metadata": {
        "id": "VDhTH3culwqo"
      },
      "source": [
        "### Оптимизатор сети\n",
        "\n",
        "Чтобы применить обновления градиента политики к нашей нейронной сети, мы будем использовать библиотеку JAX под названием [Optax](https://github.com/deepmind/optax). Optax имеет реализацию [оптимизатора Adam](https://www.geeksforgeeks.org/intuition-of-adam-optimizer/), которую мы можем использовать."
      ]
    },
    {
      "cell_type": "code",
      "execution_count": null,
      "metadata": {
        "id": "pxXINlMHP5Ic"
      },
      "outputs": [],
      "source": [
        "REINFORCE_OPTIMIZER = optax.adam(1e-3)\n",
        "\n",
        "# Initialise the optimiser\n",
        "REINFORCE_optim_state = REINFORCE_OPTIMIZER.init(REINFORCE_params)"
      ]
    },
    {
      "cell_type": "markdown",
      "metadata": {
        "id": "ViENrHOALbCw"
      },
      "source": [
        "Теперь у нас есть все необходимое для создания функции `REINFORCE_learn`. Мы сохраним состояние оптимизатора в `learn_state`. Мы вычислим градиент потерь градиента политики с помощью  `jax.grad` ([docs](https://jax.readthedocs.io/en/latest/_autosummary/jax.grad.html))."
      ]
    },
    {
      "cell_type": "code",
      "execution_count": null,
      "metadata": {
        "id": "CQr2Uz5ORjM5"
      },
      "outputs": [],
      "source": [
        "# A NamedTuple to store the state of the optimiser\n",
        "REINFORCELearnState = collections.namedtuple(\"LearnerState\", [\"optim_state\"])\n",
        "\n",
        "\n",
        "def REINFORCE_learn(key, params, learner_state, memory):\n",
        "\n",
        "  # Get the policy gradient by using `jax.grad()` on `batched_policy_gradient_loss`\n",
        "  grad_loss = jax.grad(batched_policy_gradient_loss)(params, memory.obs, memory.action, memory.reward_to_go)\n",
        "\n",
        "  # Get param updates using gradient and optimizer\n",
        "  updates, new_optim_state = REINFORCE_OPTIMIZER.update(grad_loss, learner_state.optim_state)\n",
        "\n",
        "  # Apply updates to params\n",
        "  params = optax.apply_updates(params, updates)\n",
        "\n",
        "  return params, REINFORCELearnState(new_optim_state) # update learner state"
      ]
    },
    {
      "cell_type": "markdown",
      "metadata": {
        "id": "5an3U2NhRKgG"
      },
      "source": [
        "### Цикл обучения REINFORCE\n",
        "Теперь мы можем обучить нашего агента REINFORCE, собрав все воедино с помощью цикла обучения."
      ]
    },
    {
      "cell_type": "code",
      "execution_count": null,
      "metadata": {
        "id": "vioIcVGsRjM5",
        "colab": {
          "base_uri": "https://localhost:8080/",
          "height": 822
        },
        "outputId": "3b9b222e-7ffe-426a-d66b-1fcfacbf426a"
      },
      "outputs": [
        {
          "output_type": "stream",
          "name": "stdout",
          "text": [
            "Starting training. This may take up to 10 minutes to complete.\n",
            "Episode: 0\tEpisode Return: 12.0\tAverage Episode Return: 12.0\tEvaluator Episode Return: 17.875\n",
            "Traced<ShapedArray(float32[])>with<BatchTrace(level=4/0)> with\n",
            "  val = Traced<ShapedArray(float32[256])>with<JVPTrace(level=3/0)> with\n",
            "    primal = Traced<ShapedArray(float32[256])>with<DynamicJaxprTrace(level=1/0)>\n",
            "    tangent = Traced<ShapedArray(float32[256])>with<JaxprTrace(level=2/0)> with\n",
            "      pval = (ShapedArray(float32[256]), None)\n",
            "      recipe = JaxprEqnRecipe(eqn_id=<object object at 0x79c40dfd1fa0>, in_tracers=(Traced<ShapedArray(float32[256]):JaxprTrace(level=2/0)>,), out_tracer_refs=[<weakref at 0x79c40c3860c0; to 'JaxprTracer' at 0x79c40c3861b0>], out_avals=[ShapedArray(float32[256])], primitive=pjit, params={'jaxpr': { lambda ; a:f32[256]. let b:f32[256] = neg a in (b,) }, 'in_shardings': (UnspecifiedValue,), 'out_shardings': (UnspecifiedValue,), 'in_layouts': (None,), 'out_layouts': (None,), 'resource_env': None, 'donated_invars': (False,), 'name': 'negative', 'keep_unused': False, 'inline': True}, effects=set(), source_info=<jax._src.source_info_util.SourceInfo object at 0x79c40c3a1570>, ctx=JaxprEqnContext(compute_type=None,threefry_partitionable=False),xla_metadata={})\n",
            "  batch_dim = 0\n",
            "Episode: 100\tEpisode Return: 43.0\tAverage Episode Return: 110.5\tEvaluator Episode Return: 81.25\n",
            "Episode: 200\tEpisode Return: 200.0\tAverage Episode Return: 162.6\tEvaluator Episode Return: 178.375\n",
            "Episode: 300\tEpisode Return: 142.0\tAverage Episode Return: 173.8\tEvaluator Episode Return: 169.625\n",
            "Episode: 400\tEpisode Return: 138.0\tAverage Episode Return: 170.05\tEvaluator Episode Return: 168.25\n",
            "Episode: 500\tEpisode Return: 123.0\tAverage Episode Return: 191.75\tEvaluator Episode Return: 188.875\n",
            "Episode: 600\tEpisode Return: 189.0\tAverage Episode Return: 196.05\tEvaluator Episode Return: 194.375\n",
            "Episode: 700\tEpisode Return: 200.0\tAverage Episode Return: 193.9\tEvaluator Episode Return: 193.5\n",
            "Episode: 800\tEpisode Return: 200.0\tAverage Episode Return: 197.95\tEvaluator Episode Return: 200.0\n",
            "Episode: 900\tEpisode Return: 200.0\tAverage Episode Return: 197.8\tEvaluator Episode Return: 200.0\n",
            "Episode: 1000\tEpisode Return: 193.0\tAverage Episode Return: 190.85\tEvaluator Episode Return: 187.125\n"
          ]
        },
        {
          "output_type": "display_data",
          "data": {
            "text/plain": [
              "<Figure size 640x480 with 1 Axes>"
            ],
            "image/png": "[encoded data removed]"
          },
          "metadata": {}
        }
      ],
      "source": [
        "# JIT the choose_action and learn functions for more speed\n",
        "REINFORCE_learn_jit = jax.jit(REINFORCE_learn)\n",
        "REINFORCE_choose_action_jit = jax.jit(REINFORCE_choose_action)\n",
        "\n",
        "# Initial learn state\n",
        "REINFORCE_learn_state = REINFORCELearnState(REINFORCE_optim_state)\n",
        "\n",
        "# Run training loop\n",
        "print(\"Starting training. This may take up to 10 minutes to complete.\")\n",
        "episode_returns, evaluator_returns = run_training_loop(\n",
        "                                        env_name,\n",
        "                                        REINFORCE_params,\n",
        "                                        REINFORCE_choose_action_jit,\n",
        "                                        None, # action state not used\n",
        "                                        REINFORCE_learn_jit,\n",
        "                                        REINFORCE_learn_state,\n",
        "                                        REINFORCE_memory,\n",
        "                                        num_episodes=1001,\n",
        "                                        learn_steps_per_episode=2,\n",
        "                                        video_subdir=\"reinforce\"\n",
        "                                      )\n",
        "\n",
        "# Plot the episode returns\n",
        "plt.plot(episode_returns)\n",
        "plt.xlabel(\"Episode\")\n",
        "plt.ylabel(\"Episode Return\")\n",
        "plt.title(\"REINFORCE\")\n",
        "plt.show()\n"
      ]
    },
    {
      "cell_type": "code",
      "execution_count": null,
      "metadata": {
        "id": "caKL3ngNr_Yh",
        "colab": {
          "base_uri": "https://localhost:8080/",
          "height": 288
        },
        "outputId": "66066d3e-d62d-4a32-d3dc-40e4f65a0bf2"
      },
      "outputs": [
        {
          "output_type": "execute_result",
          "data": {
            "text/plain": [
              "<IPython.core.display.HTML object>"
            ],
            "text/html": [
              "\n",
              "<video width=400 controls>\n",
              "      <source src=\"data:video/mp4;base64,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\" type=\"video/mp4\">\n",
              "</video>\n"
            ]
          },
          "metadata": {},
          "execution_count": 133
        }
      ],
      "source": [
        "#@title Визуализация {display-mode: \"form\"}\n",
        "#@markdown Выберите номер эпизода, менее или равного 1000, и **run this cell**.\n",
        "\n",
        "episode_number = 800 #@param {type:\"number\"}\n",
        "\n",
        "assert (episode_number % 100) == 0, \"Episode number must be a multiple of 100 since we only record every 100th episode.\"\n",
        "assert episode_number < 1001, \"Episode number must be less than or equal to 1000\"\n",
        "\n",
        "eval_episode_number = int(episode_number / 100 * 8)\n",
        "video_path = f\"./video/reinforce/eval/rl-video-episode-{eval_episode_number}.mp4\"\n",
        "\n",
        "mp4 = open(video_path,'rb').read()\n",
        "data_url = \"data:video/mp4;base64,\" + b64encode(mp4).decode()\n",
        "HTML(\"\"\"\n",
        "<video width=400 controls>\n",
        "      <source src=\"%s\" type=\"video/mp4\">\n",
        "</video>\n",
        "\"\"\" % data_url)"
      ]
    },
    {
      "cell_type": "markdown",
      "metadata": {
        "id": "D_HHzFTOc-Qr"
      },
      "source": [
        "## 4. Q-Learning\n",
        "Другим распространенным подходом к поиску оптимальной политики в среде с использованием RL является Q-обучение."
      ]
    },
    {
      "cell_type": "markdown",
      "metadata": {
        "id": "lF1nOZrUSzhE"
      },
      "source": [
        "### Функция значения состояния-действия\n",
        "В Q-обучении агент изучает функцию, которая аппроксимирует **значение** пар состояние-действие. Под *значением* мы подразумеваем отдачу, которую вы ожидаете получить, если начнете в определенном состоянии $s_t$, выполните определенное действие $a_t$, а затем будете действовать в соответствии с определенной политикой $\\pi$ навсегда. Функция значения состояния-действия политики $\\pi$ задается как\n",
        "\n",
        "$Q_\\pi(s,a)=\\mathrm{E}_{\\tau\\sim\\pi}\\left[R(\\tau) \\mid s_0=s,\\ a_t=a\\right]$.\n",
        "\n",
        "Мы говорим, что функция значения $Q_\\pi(s,a)$ является **оптимальной** функцией значения, если политика $\\pi$ является оптимальной политикой. Обозначим функцию оптимального значения следующим образом:\n",
        "\n",
        "$Q_\\ast(s,a)=\\max \\limits_\\pi \\ \\mathrm{E}_{\\tau\\sim\\pi}\\left[R(\\tau) \\mid s_0=s,\\ a_0=a\\right]$\n",
        "\n",
        "Существует важная связь между оптимальным действием $a_\\ast$ в состоянии $s$ и оптимальной функцией значения состояния-действия $Q_\\ast$. А именно, оптимальное действие $a_\\ast$ в состоянии $s$ равно действию, которое максимизирует оптимальную функцию значения состояния-действия. Эта связь естественным образом индуцирует оптимальную политику:\n",
        "\n",
        "$\\pi_\\ast(s)=\\arg \\max \\limits_a\\ Q_\\ast(s, a)$"
      ]
    },
    {
      "cell_type": "markdown",
      "metadata": {
        "id": "H2x2tqvZSihz"
      },
      "source": [
        "### Greedy action selection (Жадный выбор действия)\n",
        "\n",
        "**Упражнение 10:** Давайте реализуем функцию, которая, учитывая вектор Q-значений, возвращает действие с наибольшим Q-значением (т. е. жадное действие).\n",
        "\n",
        "**Useful methods:**\n",
        "*   `jax.numpy.argmax` ([docs](https://jax.readthedocs.io/en/latest/_autosummary/jax.numpy.argmax.html))"
      ]
    },
    {
      "cell_type": "code",
      "execution_count": null,
      "metadata": {
        "id": "Nn9P1YdzTIDU"
      },
      "outputs": [],
      "source": [
        "# Implement a function takes q-values as input and returns the greedy_action\n",
        "def select_greedy_action(q_values):\n",
        "\n",
        "  # YOUR CODE\n",
        "  action = jax.numpy.argmax(q_values)\n",
        "  # END YOUR CODE\n",
        "\n",
        "  return action"
      ]
    },
    {
      "cell_type": "code",
      "execution_count": null,
      "metadata": {
        "id": "ZBzLr_G7QKXR",
        "colab": {
          "base_uri": "https://localhost:8080/"
        },
        "outputId": "9dedd6b8-4959-45c0-d65b-546b4d8d9360"
      },
      "outputs": [
        {
          "output_type": "stream",
          "name": "stdout",
          "text": [
            "Looks good.\n"
          ]
        }
      ],
      "source": [
        "# @title Проверка упр 10 (run me) {display-mode: \"form\"}\n",
        "\n",
        "try:\n",
        "  q_values = jnp.array([1,1,3,4])\n",
        "  action = select_greedy_action(q_values)\n",
        "\n",
        "  if action != 3:\n",
        "    print(\"Incorrect answer, your greedy action selector looks wrong\")\n",
        "  else:\n",
        "    print(\"Looks good.\")\n",
        "except Exception as e:\n",
        "  print(\"An Error Occured: {}\".format(e))\n"
      ]
    },
    {
      "cell_type": "markdown",
      "metadata": {
        "id": "PFQUlqZ4ZyLp"
      },
      "source": [
        "### Q-Network\n",
        "В отличие от подхода с градиентом политики из предыдущего раздела, в Q-обучении и других методах RL на основе значений нам не нужна параметризация для политики, вместо этого мы параметризуем Q-функцию с помощью нейронной сети $Q_\\theta$. Мы получаем политику из Q-сети, всегда выбирая действие с *наибольшим* значением:\n",
        "\n",
        "$\\hat{\\pi}_\\theta(s)=\\arg \\max \\limits_a\\ Q_{\\theta}(s, a)$\n",
        "\n",
        "Как и ранее, мы будем использовать хайку для создания нейронной сети для аппроксимации этой Q-функции. Сеть будет принимать наблюдение в качестве входных данных, а затем выводить Q-значение для каждого из доступных действий. Таким образом, в случае CartPole выход сети будет иметь размер $2$."
      ]
    },
    {
      "cell_type": "code",
      "execution_count": null,
      "metadata": {
        "id": "9wU1soJYZyLp"
      },
      "outputs": [],
      "source": [
        "def build_network(num_actions: int, layers=[20, 20]) -> hk.Transformed:\n",
        "  \"\"\"Factory for a simple MLP network for approximating Q-values.\"\"\"\n",
        "\n",
        "  def q_network(obs):\n",
        "    network = hk.Sequential(\n",
        "        [hk.Flatten(),\n",
        "         hk.nets.MLP(layers + [num_actions])])\n",
        "    return network(obs)\n",
        "\n",
        "  return hk.without_apply_rng(hk.transform(q_network))"
      ]
    },
    {
      "cell_type": "markdown",
      "metadata": {
        "id": "sUwG-4qTS1zx"
      },
      "source": [
        "Давайте инициализируем нашу Q-сеть и получим начальные параметры."
      ]
    },
    {
      "cell_type": "code",
      "execution_count": null,
      "metadata": {
        "id": "1uvq5n2cS9lu",
        "colab": {
          "base_uri": "https://localhost:8080/"
        },
        "outputId": "966d5c42-b340-4343-ce36-920d540e3d64"
      },
      "outputs": [
        {
          "output_type": "stream",
          "name": "stdout",
          "text": [
            "Q-Learning params: dict_keys(['mlp/~/linear_0', 'mlp/~/linear_1', 'mlp/~/linear_2'])\n"
          ]
        }
      ],
      "source": [
        "# Initialise Q-network\n",
        "Q_NETWORK = build_network(num_actions=num_actions, layers=[20, 20]) # two actions\n",
        "\n",
        "dummy_obs = jnp.zeros((1,*obs_shape), jnp.float32) # a dummy observation like the one in CartPole\n",
        "\n",
        "random_key = jax.random.PRNGKey(42) # random key\n",
        "Q_NETWORK_PARAMS = Q_NETWORK.init(random_key, dummy_obs) # Get initial params\n",
        "\n",
        "print(\"Q-Learning params:\", Q_NETWORK_PARAMS.keys())"
      ]
    },
    {
      "cell_type": "markdown",
      "metadata": {
        "id": "iqCUeZfhEfyP"
      },
      "source": [
        "Прежде чем мы реализуем функцию потерь, необходимую для обучения нашей Q-сети, давайте сначала обсудим интуицию, стоящую за ней."
      ]
    },
    {
      "cell_type": "markdown",
      "metadata": {
        "id": "vbLig3uSZyLp"
      },
      "source": [
        "### The Bellman Equations (Уравнения Беллмана)\n",
        "Функция значения может быть записана рекурсивно как:\n",
        "\n",
        "$Q_{\\pi}(s, a) =\\underset{s^{\\prime} \\sim P}{\\mathrm{E}}\\left[r(s, a)+ \\underset{a^{\\prime} \\sim \\pi}{\\mathrm{E}}\\left[Q_{\\pi}\\left(s^{\\prime}, a^{\\prime}\\right)\\right]\\right]$,\n",
        "\n",
        "где $s' \\sim P$ — это сокращение для обозначения того, что следующее состояние $s'$ выбирается из функции перехода среды $P(s'\\mid s,a)$. Интуитивно это уравнение говорит, что ценность действия $a$, которое вы предприняли в состоянии $s$, равна вознаграждению $r$, которое вы ожидаете получить, плюс ценность, которую вы ожидаете получить в следующем состоянии $s`$, в котором вы окажетесь, при условии, что вы выберете свое следующее действие $a`$ с политикой $\\pi$. Уравнение Беллмана для оптимальной функции ценности выглядит так:\n",
        "\n",
        "$Q_{*}(s, a) =\\underset{s^{\\prime} \\sim P}{\\mathrm{E}}\\left[r(s, a)+\\ \\underset{a^{\\prime}}{\\max}\\ Q_{*}(s^{\\prime}, a^{\\prime})\\right]$\n",
        "\n",
        "Обратите внимание, что вместо выбора вашего следующего действия $a`$ с политикой $\\pi$ мы выбираем действие с наибольшим значением Q.\n",
        "\n",
        "Более подробное обсуждение уравнений Беллмана можно найти на сайте [OpenAI Spinning Up](https://spinningup.openai.com/en/latest/spinningup/rl_intro.html)."
      ]
    },
    {
      "cell_type": "markdown",
      "metadata": {
        "id": "DsOJi5G8ZyLp"
      },
      "source": [
        "### The Bellman Backup (Резервное копирование Беллмана)\n",
        "\n",
        "Чтобы научиться аппроксимировать оптимальную функцию Q-значения, мы можем использовать правую часть уравнения Беллмана в качестве правила обновления. Другими словами, предположим, что у нас есть Q-сеть $Q_\\theta$, аппроксимированная с использованием параметров $\\theta$, тогда мы можем итеративно обновлять параметры таким образом, что\n",
        "\n",
        "$Q_\\theta(s,a)\\leftarrow r(s, a) + \\underset{a'}{\\max}\\ Q_\\theta(s', a')$.\n",
        "\n",
        "Интуитивно это означает, что аппроксимация Q-значения действия $a$ в состоянии $s$ должна быть обновлена ​​таким образом, чтобы она была ближе к равной вознаграждению, полученному от среды $r(s, a)$, плюс значение наилучшего возможного действия в следующем состоянии $s'$. Мы можем выполнить эту оптимизацию, минимизируя разницу между левой и правой частью относительно параметров $\\theta$, используя градиентный спуск. Мы можем измерить разницу между двумя значениями, используя [квадратичную ошибку](https://en.wikipedia.org/wiki/Mean_squared_error#Loss_function).\n",
        "\n",
        "**Упражнение 11:** Реализуйте функцию квадратичной ошибки.\n",
        "\n",
        "**Полезные функции**\n",
        "* `jax.numpy.square` ([docs](https://jax.readthedocs.io/en/latest/_autosummary/jax.numpy.square.html))"
      ]
    },
    {
      "cell_type": "code",
      "execution_count": null,
      "metadata": {
        "id": "PTto__ohZyLp"
      },
      "outputs": [],
      "source": [
        "def compute_squared_error(pred, target):\n",
        "  # YOUR CODE\n",
        "  squared_error = jax.numpy.mean(jax.numpy.square(pred - target))\n",
        "  # END YOUR CODE\n",
        "\n",
        "  return squared_error"
      ]
    },
    {
      "cell_type": "code",
      "execution_count": null,
      "metadata": {
        "id": "wGhX8XTFVPVU",
        "colab": {
          "base_uri": "https://localhost:8080/"
        },
        "outputId": "4e851b4d-dc6d-4518-9f12-f254c4fd6c11"
      },
      "outputs": [
        {
          "output_type": "stream",
          "name": "stdout",
          "text": [
            "Looks good.\n"
          ]
        }
      ],
      "source": [
        "#@title Проверка упр 11 {display-mode: \"form\"}\n",
        "\n",
        "try:\n",
        "  result = compute_squared_error(1, 4)\n",
        "\n",
        "  if result != 9:\n",
        "    print(\"Your implementation looks wrong.\")\n",
        "  else:\n",
        "    print(\"Looks good.\")\n",
        "except Exception as e:\n",
        "  print(\"An Error Occured: {}\".format(e))"
      ]
    },
    {
      "cell_type": "markdown",
      "metadata": {
        "id": "ycpZVkgdZyLp"
      },
      "source": [
        "**Упражнение 12:** Реализуйте функцию, которая вычисляет **цель Беллмана** (правая часть уравнения Беллмана). Если эпизод находится на последнем временном шаге (т. е. done==1.0), то цель Беллмана должна быть равна награде, без дополнительного значения в конце.\n",
        "\n",
        "**Полезные функции**\n",
        "* `jax.numpy.max` ([docs](https://jax.readthedocs.io/en/latest/_autosummary/jax.numpy.max.html))"
      ]
    },
    {
      "cell_type": "code",
      "execution_count": null,
      "metadata": {
        "id": "961_OllWZyLp"
      },
      "outputs": [],
      "source": [
        "# Bellman target\n",
        "def compute_bellman_target(reward, done, next_q_values):\n",
        "  \"\"\"A function to compute the bellman target.\n",
        "\n",
        "  Args:\n",
        "      reward: a scalar reward.\n",
        "      done: a scalar of value either 1.0 or 0.0, indicating if the transition is a terminal one.\n",
        "      next_q_values: a vector of q_values for the next state. One for each action.\n",
        "  Returns:\n",
        "      A scalar equal to the bellman target.\n",
        "\n",
        "  \"\"\"\n",
        "  # YOUR CODE\n",
        "  bellman_target = jax.numpy.where(done, reward, reward + jax.numpy.max(next_q_values))\n",
        "  # END YOUR CODE\n",
        "\n",
        "  return bellman_target"
      ]
    },
    {
      "cell_type": "code",
      "execution_count": null,
      "metadata": {
        "id": "E5RAhegOWAkC",
        "colab": {
          "base_uri": "https://localhost:8080/"
        },
        "outputId": "2a5a1ed6-91ce-4a01-b8fd-857932197791"
      },
      "outputs": [
        {
          "output_type": "stream",
          "name": "stdout",
          "text": [
            "Looks good.\n"
          ]
        }
      ],
      "source": [
        "#@title Проверка упр 12 {display-mode: \"form\"}\n",
        "\n",
        "try:\n",
        "  # not done\n",
        "  result1 = compute_bellman_target(1, 0.0, np.array([3,2], \"float32\"))\n",
        "\n",
        "  # done\n",
        "  result2 = compute_bellman_target(1, 1.0, np.array([3,2], \"float32\"))\n",
        "\n",
        "  if result1 != 4 or result2 != 1:\n",
        "    print(\"Your implementation looks wrong.\")\n",
        "  else:\n",
        "    print(\"Looks good.\")\n",
        "except Exception as e:\n",
        "  print(\"An Error Occured: {}\".format(e))"
      ]
    },
    {
      "cell_type": "markdown",
      "metadata": {
        "id": "8sIjrHSJZyLq"
      },
      "source": [
        "Теперь мы можем объединить эти две функции, чтобы вычислить потерю для Q-обучения. Потери Q-обучения равны квадрату разницы между прогнозируемым значением Q действия и его соответствующей целью Беллмана.\n",
        "\n",
        "**Упражнение 13:** Реализуйте функцию потери Q-обучения."
      ]
    },
    {
      "cell_type": "code",
      "execution_count": null,
      "metadata": {
        "id": "LJY_kpFcZyLq"
      },
      "outputs": [],
      "source": [
        "def q_learning_loss(q_values, action, reward, done, next_q_values):\n",
        "    \"\"\"Implementation of the Q-learning loss.T\n",
        "\n",
        "    Args:\n",
        "        q_values: a vector of Q-values, one for each action.\n",
        "        action: an integer, giving the action that was chosen. q_values[action] is the value of the chose action.\n",
        "        done: is a scalar that indicates if this is a terminal transition.\n",
        "        next_q_values: a vector of Q-values in the next state.\n",
        "    Returns:\n",
        "        The squared difference between the q_value of the chosen action and the bellman target.\n",
        "    \"\"\"\n",
        "    # YOUR CODE\n",
        "    chosen_action_q_value = q_values[action] # q_value of action, use array indexing\n",
        "    bellman_target = compute_bellman_target(reward, done, next_q_values)\n",
        "    squared_error = jax.numpy.square(chosen_action_q_value - bellman_target)\n",
        "    # END YOUR CODE\n",
        "\n",
        "    return squared_error"
      ]
    },
    {
      "cell_type": "code",
      "execution_count": null,
      "metadata": {
        "id": "1aZRn1qaWx2M",
        "colab": {
          "base_uri": "https://localhost:8080/"
        },
        "outputId": "825006a3-9640-4d41-f5d3-ca1077041f1d"
      },
      "outputs": [
        {
          "output_type": "stream",
          "name": "stdout",
          "text": [
            "Looks good.\n"
          ]
        }
      ],
      "source": [
        "#@title Проверка упр 13 {display-mode: \"form\"}\n",
        "\n",
        "try:\n",
        "  result = q_learning_loss(np.array([3,2], \"float32\"), 1, 2, 0.0, np.array([3,2], \"float32\"))\n",
        "\n",
        "  if result != 9.0:\n",
        "    print(\"Your implementation looks wrong.\")\n",
        "  else:\n",
        "    print(\"Looks good.\")\n",
        "except Exception as e:\n",
        "  print(\"An Error Occured: {}\".format(e))"
      ]
    },
    {
      "cell_type": "markdown",
      "metadata": {
        "id": "b4YnSUfJZyLq"
      },
      "source": [
        "### Target Q-network (Целевая Q-сеть)\n",
        "Обратите внимание: когда мы вычисляем цель Беллмана, мы используем нашу Q-сеть $Q_\\theta$ для вычисления значения для следующего состояния $s_t$. По сути, мы используем наше последнее приближение Q-функции для вычисления цели нашего следующего приближения. Использование приближения для вычисления цели для вашего следующего приближения называется самозагрузкой. К сожалению, если мы наивно делаем такую ​​самозагрузку, это может сделать обучение нейронной сети очень нестабильным. Чтобы смягчить это, мы можем вместо этого использовать другой набор параметров $\\hat{\\theta}$ для вычисления значений в состоянии $s_{t+1}$. Мы будем сохранять параметры $\\hat{\\theta}$ фиксированными и только периодически обновлять их, чтобы они были равны последним онлайн-параметрам $\\theta$ каждые пару шагов обучения *(скажем, 100)*. Это позволяет сохранять фиксированные цели Беллмана для пары шагов обучения, чтобы помочь снизить нестабильность из-за самозагрузки.\n",
        "\n",
        "Нам нужно будет отслеживать последние (онлайн) параметры, а также параметры целевых сетей. Давайте создадим `NamedTuple` для хранения этих двух значений. Нам также нужно будет отслеживать количество шагов обучения, которые мы сделали, чтобы знать, когда обновлять целевую сеть. Давайте сохраним `count` шагов обучения в `learn_state`."
      ]
    },
    {
      "cell_type": "code",
      "execution_count": null,
      "metadata": {
        "id": "DvZqUKmq6L7k"
      },
      "outputs": [],
      "source": [
        "# Store online and target parameters\n",
        "QLearnParams = collections.namedtuple(\"Params\", [\"online\", \"target\"])\n",
        "\n",
        "# Q-learn-state\n",
        "QLearnState = collections.namedtuple(\"LearnerState\", [\"count\", \"optim_state\"])"
      ]
    },
    {
      "cell_type": "markdown",
      "metadata": {
        "id": "CJWH2_kNZsau"
      },
      "source": [
        "Мы снова будем использовать Optax для оптимизации нашей нейронной сети в JAX. Мы сохраняем состояние оптимизатора в `learn_state` выше. Давайте теперь создадим экземпляр оптимизатора и добавим начальные параметры Q-сети в объект `QLearnParams`."
      ]
    },
    {
      "cell_type": "code",
      "execution_count": null,
      "metadata": {
        "id": "HwqKTN6BaAXE"
      },
      "outputs": [],
      "source": [
        "# Initialise Q-network optimizer\n",
        "Q_LEARN_OPTIMIZER = optax.adam(3e-4) # learning rate\n",
        "\n",
        "Q_LEARN_OPTIM_STATE = Q_LEARN_OPTIMIZER.init(Q_NETWORK_PARAMS) # initial optim state\n",
        "\n",
        "# Create Learn State\n",
        "Q_LEARNING_LEARN_STATE = QLearnState(0, Q_LEARN_OPTIM_STATE) # count set to zero initially\n",
        "\n",
        "# Add initial Q-network weights to QLearnParams object\n",
        "Q_LEARNING_PARAMS = QLearnParams(online=Q_NETWORK_PARAMS, target=Q_NETWORK_PARAMS) # target equal to online"
      ]
    },
    {
      "cell_type": "markdown",
      "metadata": {
        "id": "xj89M8LgZlFe"
      },
      "source": [
        "Теперь мы можем реализовать простую функцию, которая обновляет параметры целевых сетей, чтобы они соответствовали последним онлайн-параметрам каждые 100 шагов обучения."
      ]
    },
    {
      "cell_type": "code",
      "execution_count": null,
      "metadata": {
        "id": "SKrg_3rO6cCL"
      },
      "outputs": [],
      "source": [
        "def update_target_params(learn_state, online_weights, target_weights):\n",
        "  \"\"\"A function to update target params every 100 training steps\"\"\"\n",
        "\n",
        "  target = jax.lax.cond(\n",
        "      jax.numpy.mod(learn_state.count, 100) == 0,\n",
        "      lambda x, y: x,\n",
        "      lambda x, y: y,\n",
        "      online_weights,\n",
        "      target_weights\n",
        "  )\n",
        "\n",
        "  params = QLearnParams(online_weights, target)\n",
        "\n",
        "  return params"
      ]
    },
    {
      "cell_type": "markdown",
      "metadata": {
        "id": "KoiaYSo9ZyLq"
      },
      "source": [
        "### Q-learning loss (Функция потери Q-обучения)\n",
        "Теперь у нас есть все необходимое для реализации функции `q_learn`, которая принимает некоторую партию переходов и выполняет шаг Q-обучения для обновления параметров сети. Но сначала мы используем `jax.vmap` для изменения функции `q_learning_loss` так, чтобы она принимала партии переходов. Кроме того, мы вычислим Q-значения, передавая наблюдения через `Q_NETWORK`, и целевые Q-значения, используя целевые параметры `Q_NETWORK`."
      ]
    },
    {
      "cell_type": "code",
      "execution_count": null,
      "metadata": {
        "id": "hnrsGppWZyLq"
      },
      "outputs": [],
      "source": [
        "def batched_q_learning_loss(online_params, target_params, obs, actions, rewards, next_obs, dones):\n",
        "    q_values = Q_NETWORK.apply(online_params, obs) # use the online parameters\n",
        "    next_q_values = Q_NETWORK.apply(target_params, next_obs) # use the target parameters\n",
        "    squared_error = jax.vmap(q_learning_loss)(q_values, actions, rewards, dones, next_q_values) # vmap q_learning_loss\n",
        "    mean_squared_error = jnp.mean(squared_error) # mean squared error over batch\n",
        "    return mean_squared_error"
      ]
    },
    {
      "cell_type": "markdown",
      "metadata": {
        "id": "CU8vo9ZebnEa"
      },
      "source": [
        "Теперь мы можем создать функцию `q_learn`, которая вычисляет градиент `batched_q_learning_loss`, а затем использует оптимизатор Optax для обновления весов сети, а затем, наконец (возможно), обновляет целевые параметры."
      ]
    },
    {
      "cell_type": "code",
      "execution_count": null,
      "metadata": {
        "id": "6BYoX2W_ZyLr"
      },
      "outputs": [],
      "source": [
        "def q_learn(rng, params, learner_state, memory):\n",
        "  # Compute gradients\n",
        "  grad_loss = jax.grad(batched_q_learning_loss)(params.online, params.target, memory.obs,\n",
        "                                          memory.action, memory.reward,\n",
        "                                          memory.next_obs, memory.done,\n",
        "                                          ) # jax.grad\n",
        "\n",
        "  # Get updates\n",
        "  updates, opt_state = Q_LEARN_OPTIMIZER.update(grad_loss, learner_state.optim_state)\n",
        "\n",
        "  # Apply them\n",
        "  new_weights = optax.apply_updates(params.online, updates)\n",
        "\n",
        "  # Maybe update target network\n",
        "  params = update_target_params(learner_state, new_weights, params.target)\n",
        "\n",
        "  # Increment learner step counter\n",
        "  learner_state = QLearnState(learner_state.count + 1, opt_state)\n",
        "\n",
        "  return params, learner_state"
      ]
    },
    {
      "cell_type": "markdown",
      "metadata": {
        "id": "VpZsKHssZyLq"
      },
      "source": [
        "### Replay Buffer (Буфер воспроизведения)\n",
        "Для Q-обучения нам понадобится память агента, которая хранит целые переходы: `obs`, `action`, `reward`, `next_obs`, `done`. Когда мы извлекаем переходы из памяти, они должны выбираться случайным образом из всех переходов, собранных до сих пор. В RL мы часто называем такой модуль **буфером воспроизведения**.\n",
        "\n",
        "Одним из преимуществ использования такого буфера воспроизведения является то, что опыт можно повторно использовать несколько раз для обучения, в отличие от алгоритма градиента политики REINFORCE, где мы отбрасывали воспоминания после их использования для обучения."
      ]
    },
    {
      "cell_type": "code",
      "execution_count": null,
      "metadata": {
        "id": "8tv5dUH6ZyLr"
      },
      "outputs": [],
      "source": [
        "class TransitionMemory(object):\n",
        "  \"\"\"A simple Python replay buffer.\"\"\"\n",
        "\n",
        "  def __init__(self, max_size=10_000, batch_size=256):\n",
        "    self.batch_size = batch_size\n",
        "    self.buffer = collections.deque(maxlen=max_size)\n",
        "\n",
        "  def push(self, transition):\n",
        "\n",
        "    # add transition to the replay buffer\n",
        "    self.buffer.append(\n",
        "        (transition.obs, transition.action, transition.reward,\n",
        "          transition.next_obs, transition.done)\n",
        "    )\n",
        "\n",
        "\n",
        "  def is_ready(self):\n",
        "    return self.batch_size <= len(self.buffer)\n",
        "\n",
        "  def sample(self):\n",
        "    # Randomly sample a batch of transitions from the buffer\n",
        "    random_replay_sample = random.sample(self.buffer, self.batch_size)\n",
        "\n",
        "    # Batch the transitions together\n",
        "    obs_batch, action_batch, reward_batch, next_obs_batch, done_batch = zip(*random_replay_sample)\n",
        "\n",
        "    return Transition(\n",
        "        np.stack(obs_batch).astype(\"float32\"),\n",
        "        np.asarray(action_batch).astype(\"int32\"),\n",
        "        np.asarray(reward_batch).astype(\"float32\"),\n",
        "        np.stack(next_obs_batch).astype(\"float32\"),\n",
        "        np.asarray(done_batch).astype(\"float32\")\n",
        "    )\n",
        "\n",
        "# Instantiate the memory\n",
        "Q_LEARNING_MEMORY = TransitionMemory(max_size=50_000, batch_size=256)"
      ]
    },
    {
      "cell_type": "markdown",
      "metadata": {
        "id": "XbHk03VVUHAV"
      },
      "source": [
        "### Случайное исследование\n",
        "У нас почти есть все, что нужно для функционирующего агента Q-обучения. Но одна проблема заключается в том, что если мы всегда выбираем действие с наивысшим значением Q, то политика агента будет полностью [детерминированной](https://www.quora.com/What-is-the-intuitive-difference-between-a-stochastic-model-and-a-deterministic-model). Это означает, что агент всегда будет выбирать одну и ту же стратегию. Это может представлять проблему, поскольку в начале обучения Q-сеть будет очень неточной (т. е. плохой аппроксимацией истинной Q-функции). Таким образом, агент будет последовательно выбирать неоптимальные действия. Более того, агент никогда не отклонится от своей неоптимальной стратегии и никогда не обнаружит новые, потенциально более полезные действия. В результате Q-сеть остается неточной. В идеале агент должен опробовать много разных стратегий, чтобы он мог наблюдать результаты (вознаграждения) своих действий в разных состояниях и таким образом улучшить приближение Q-функции.\n",
        "\n",
        "Один простой способ гарантировать, что агент опробует много разных действий, — позволить ему периодически выбирать некоторые случайные действия вместо жадного (лучшего) действия все время.\n",
        "\n",
        "**Упражнение 14:** Реализуйте функцию, которая, учитывая количество возможных (дискретных) действий, возвращает случайное действие.\n",
        "\n",
        "**Полезные методы:**\n",
        "\n",
        "*  `jax.random.randint` ([docs](https://jax.readthedocs.io/en/latest/_autosummary/jax.random.randint.html))"
      ]
    },
    {
      "cell_type": "code",
      "execution_count": null,
      "metadata": {
        "id": "uUKkpMLXUtko"
      },
      "outputs": [],
      "source": [
        "def select_random_action(key, num_actions):\n",
        "\n",
        "    # YOUR CODE\n",
        "    action = jax.random.randint(key, shape=(), minval=0, maxval=num_actions)\n",
        "    # END YOUR CODE\n",
        "\n",
        "    return action"
      ]
    },
    {
      "cell_type": "code",
      "execution_count": null,
      "metadata": {
        "id": "NO6va6S2Y40E",
        "colab": {
          "base_uri": "https://localhost:8080/"
        },
        "outputId": "d8f42b56-578c-40ba-eeb1-0ae759ab665f"
      },
      "outputs": [
        {
          "output_type": "stream",
          "name": "stdout",
          "text": [
            "Looks good.\n"
          ]
        }
      ],
      "source": [
        "#@title Проверка упр 14 {display-mode: \"form\"}\n",
        "\n",
        "try:\n",
        "  random_key1 = random_key = jax.random.PRNGKey(6) # random key\n",
        "  random_key2 = random_key = jax.random.PRNGKey(1000) # random key\n",
        "  result1 = select_random_action(random_key1, 2)\n",
        "  result2 = select_random_action(random_key2, 2)\n",
        "\n",
        "  if result1 != 1 or result2 != 0:\n",
        "    print(\"Your implementation looks wrong.\")\n",
        "  else:\n",
        "    print(\"Looks good.\")\n",
        "except:\n",
        "  print(\"Your implementation looks wrong.\")"
      ]
    },
    {
      "cell_type": "markdown",
      "metadata": {
        "id": "8-kKDFT6XU6y"
      },
      "source": [
        "### $\\varepsilon$-greedy action selection (эпсилон жадный выбор действия)\n",
        "В начале обучения, когда точность Q-сети низкая, агенту стоит в основном совершать случайные действия, чтобы он мог узнать, насколько хороши/плохи действия. Однако по мере повышения точности Q-сети агент должен начать совершать меньше случайных действий и вместо этого начать выбирать жадные действия относительно Q-значений. Выбор лучших действий с учетом текущей Q-сети называется **эксплуатацией**. В RL мы часто называем отношение случайных и жадных действий **эпсилоном** $\\varepsilon$. Эпсилон обычно представляет собой десятичное значение в интервале $[0,1]$, где, например, $\\varepsilon=0.4$ означает, что агент выбирает случайное действие в 40% случаев, а жадное действие — в 60% случаев. В RL принято линейно уменьшать значение эпсилон с течением времени, так что агент становится все более жадным по мере повышения точности его Q-сети в процессе обучения.\n",
        "\n",
        "**Упражнение 15:** Реализуйте функцию, которая принимает количество временных шагов в качестве входных данных и возвращает текущее значение эпсилон."
      ]
    },
    {
      "cell_type": "code",
      "execution_count": null,
      "metadata": {
        "id": "_qejnbCocurG"
      },
      "outputs": [],
      "source": [
        "EPSILON_DECAY_TIMESTEPS = 3000 # decay epsilon over 3000 timesteps\n",
        "EPSILON_MIN = 0.1 # 10% exploration"
      ]
    },
    {
      "cell_type": "code",
      "execution_count": null,
      "metadata": {
        "id": "5ujSbssCZyLs"
      },
      "outputs": [],
      "source": [
        "def get_epsilon(num_timesteps):\n",
        "  # YOUR CODE\n",
        "  epsilon = 1.0 - (num_timesteps / EPSILON_DECAY_TIMESTEPS) # decay epsilon\n",
        "\n",
        "  epsilon = jax.lax.select(\n",
        "      epsilon < EPSILON_MIN,\n",
        "      EPSILON_MIN, # if less than min then set to min\n",
        "      epsilon # else don't change epsilon\n",
        "  )\n",
        "  # END YOUR CODE\n",
        "  return epsilon"
      ]
    },
    {
      "cell_type": "code",
      "execution_count": null,
      "metadata": {
        "id": "hvu4zA64aUou",
        "colab": {
          "base_uri": "https://localhost:8080/"
        },
        "outputId": "04749784-3f49-485a-c530-4641c1f578af"
      },
      "outputs": [
        {
          "output_type": "stream",
          "name": "stdout",
          "text": [
            "Your function looks correct.\n"
          ]
        }
      ],
      "source": [
        "#@title Проверка упр 15 {display-mode: \"form\"}\n",
        "def check_get_epsilon(get_epsilon):\n",
        "  try:\n",
        "    result1 = get_epsilon(10)\n",
        "    result2 = get_epsilon(5_010)\n",
        "\n",
        "    if result1 != 0.99666667 or result2 != 0.1:\n",
        "      print(\"Your function looks wrong.\")\n",
        "    else:\n",
        "      print(\"Your function looks correct.\")\n",
        "  except:\n",
        "    print(\"Your function looks wrong.\")\n",
        "\n",
        "check_get_epsilon(get_epsilon)\n"
      ]
    },
    {
      "cell_type": "markdown",
      "metadata": {
        "id": "t56oo58TVQ_s"
      },
      "source": [
        "**Упражнение 16:** Теперь давайте объединим эти функции для выполнения эпсилон-жадного выбора действия."
      ]
    },
    {
      "cell_type": "code",
      "execution_count": null,
      "metadata": {
        "id": "NlQx8K4vKUXj"
      },
      "outputs": [],
      "source": [
        "def select_epsilon_greedy_action(key, q_values, num_timesteps):\n",
        "    num_actions = len(q_values) # number of available actions\n",
        "\n",
        "    # YOUR CODE HERE\n",
        "    epsilon = get_epsilon(num_timesteps) # get epsilon value\n",
        "\n",
        "    should_explore = jax.random.uniform(key) < epsilon  # hint: a boolean expression to check if some random number is less than epsilon\n",
        "\n",
        "    action = jax.lax.select(\n",
        "        should_explore,\n",
        "        select_random_action(key, num_actions), # if should explore\n",
        "        select_greedy_action(q_values) # if should be greedy\n",
        "    )\n",
        "    # END YOUR CODE\n",
        "    return action"
      ]
    },
    {
      "cell_type": "code",
      "execution_count": null,
      "metadata": {
        "id": "mkVU2a5e7P6b",
        "colab": {
          "base_uri": "https://localhost:8080/"
        },
        "outputId": "81ee66cb-e9fe-4143-dfbb-e725b3e82dca"
      },
      "outputs": [
        {
          "output_type": "stream",
          "name": "stdout",
          "text": [
            "Looks correct!\n"
          ]
        }
      ],
      "source": [
        "#@title Проверка упражнения 16 {display-mode: \"form\"}\n",
        "\n",
        "try:\n",
        "  rng = hk.PRNGSequence(jax.random.PRNGKey(42))\n",
        "  dummy_q_values = jnp.array([0,1], jnp.float32)\n",
        "  num_timesteps = 5010 # very greedy\n",
        "  actions1 = []\n",
        "  for i in range(10):\n",
        "      actions1.append(int(select_epsilon_greedy_action(next(rng), dummy_q_values, num_timesteps)))\n",
        "\n",
        "  num_timesteps = 0 # completly random\n",
        "  actions2 = []\n",
        "  for i in range(10):\n",
        "      actions2.append(int(select_epsilon_greedy_action(next(rng), dummy_q_values, num_timesteps)))\n",
        "  if actions1 != [1, 1, 0, 1, 1, 0, 1, 1, 1, 1] or actions2 != [0, 0, 0, 1, 1, 1, 1, 0, 0, 0]:\n",
        "    print(\"Looks like something might be incorrect!\")\n",
        "  else:\n",
        "    print(\"Looks correct!\")\n",
        "except:\n",
        "  print(\"Looks like something might be incorrect!\")"
      ]
    },
    {
      "cell_type": "markdown",
      "metadata": {
        "id": "y5W23MnobN9x"
      },
      "source": [
        "### Действие выбора Q-learning\n",
        "\n",
        "Теперь у нас есть все необходимое для создания функции `q_learning_select_action`. Мы будем использовать `actor_state` для хранения счетчика, который отслеживает текущее количество временных шагов. Мы можем использовать счетчик для уменьшения нашего значения `epsilon`."
      ]
    },
    {
      "cell_type": "code",
      "execution_count": null,
      "metadata": {
        "id": "81TysLc0RjM6"
      },
      "outputs": [],
      "source": [
        "# Actor state stores the current number of timesteps\n",
        "QActorState = collections.namedtuple(\"ActorState\", [\"count\"])\n",
        "\n",
        "def q_learning_select_action(key, params, actor_state, obs, evaluation=False):\n",
        "    obs = jnp.expand_dims(obs, axis=0) # add dummy batch dim\n",
        "    q_values = Q_NETWORK.apply(params.online, obs)[0] # remove batch dim\n",
        "\n",
        "    action = select_epsilon_greedy_action(key, q_values, actor_state.count)\n",
        "    greedy_action = select_greedy_action(q_values)\n",
        "\n",
        "    action = jax.lax.select(\n",
        "        evaluation,\n",
        "        greedy_action,\n",
        "        action\n",
        "    )\n",
        "\n",
        "    next_actor_state = QActorState(actor_state.count + 1) # increment timestep counter\n",
        "\n",
        "    return action, next_actor_state\n",
        "\n",
        "Q_LEARNING_ACTOR_STATE = QActorState(0) # counter set to zero"
      ]
    },
    {
      "cell_type": "markdown",
      "metadata": {
        "id": "z884-1oNRGEr"
      },
      "source": [
        "### Обучение\n",
        "Теперь мы можем собрать все вместе, используя цикл агент-среда. Но сначала давайте объединим функцию выбора действия и функцию обучения для дополнительной скорости."
      ]
    },
    {
      "cell_type": "code",
      "execution_count": null,
      "metadata": {
        "id": "xbdHDbd1RjM8",
        "colab": {
          "base_uri": "https://localhost:8080/",
          "height": 680
        },
        "outputId": "9804e4a2-70c3-4ccc-9275-b5c54819fb31"
      },
      "outputs": [
        {
          "output_type": "stream",
          "name": "stdout",
          "text": [
            "Starting training. This may take up to 8 minutes to complete.\n",
            "Episode: 0\tEpisode Return: 16.0\tAverage Episode Return: 16.0\tEvaluator Episode Return: 9.375\n",
            "Episode: 100\tEpisode Return: 11.0\tAverage Episode Return: 12.45\tEvaluator Episode Return: 9.875\n",
            "Episode: 200\tEpisode Return: 10.0\tAverage Episode Return: 9.45\tEvaluator Episode Return: 9.5\n",
            "Episode: 300\tEpisode Return: 10.0\tAverage Episode Return: 10.2\tEvaluator Episode Return: 9.625\n",
            "Episode: 400\tEpisode Return: 9.0\tAverage Episode Return: 9.9\tEvaluator Episode Return: 9.25\n",
            "Episode: 500\tEpisode Return: 11.0\tAverage Episode Return: 10.7\tEvaluator Episode Return: 31.125\n",
            "Episode: 600\tEpisode Return: 70.0\tAverage Episode Return: 58.5\tEvaluator Episode Return: 54.125\n",
            "Episode: 700\tEpisode Return: 59.0\tAverage Episode Return: 73.25\tEvaluator Episode Return: 86.75\n",
            "Episode: 800\tEpisode Return: 200.0\tAverage Episode Return: 137.65\tEvaluator Episode Return: 170.125\n",
            "Episode: 900\tEpisode Return: 188.0\tAverage Episode Return: 178.4\tEvaluator Episode Return: 190.875\n",
            "Episode: 1000\tEpisode Return: 155.0\tAverage Episode Return: 184.7\tEvaluator Episode Return: 158.25\n"
          ]
        },
        {
          "output_type": "display_data",
          "data": {
            "text/plain": [
              "<Figure size 640x480 with 1 Axes>"
            ],
            "image/png": "[encoded data removed]"
          },
          "metadata": {}
        }
      ],
      "source": [
        "# Jit functions\n",
        "q_learning_select_action_jit = jax.jit(q_learning_select_action)\n",
        "q_learn_jit = jax.jit(q_learn)\n",
        "\n",
        "# Run environment loop\n",
        "print(\"Starting training. This may take up to 8 minutes to complete.\")\n",
        "episode_returns, evaluator_returns = run_training_loop(\n",
        "                                        env_name,\n",
        "                                        Q_LEARNING_PARAMS,\n",
        "                                        q_learning_select_action_jit,\n",
        "                                        Q_LEARNING_ACTOR_STATE,\n",
        "                                        q_learn_jit,\n",
        "                                        Q_LEARNING_LEARN_STATE,\n",
        "                                        Q_LEARNING_MEMORY,\n",
        "                                        num_episodes=1001,\n",
        "                                        train_every_timestep=True, # do learning after every timestep\n",
        "                                        video_subdir=\"q_learning\"\n",
        "                                    )\n",
        "\n",
        "plt.plot(episode_returns)\n",
        "plt.xlabel(\"Episodes\")\n",
        "plt.ylabel(\"Episode Return\")\n",
        "plt.title(\"Deep Q-Learning\")\n",
        "plt.show()"
      ]
    },
    {
      "cell_type": "markdown",
      "metadata": {
        "id": "2k0-41wbpFDE"
      },
      "source": [
        "На этом этапе, как мы надеемся, приближенная Q-функция сошлась к приемлемой политике балансировки шеста в задаче CartPole."
      ]
    },
    {
      "cell_type": "code",
      "execution_count": null,
      "metadata": {
        "id": "t4v0ZbB4FQUs",
        "colab": {
          "base_uri": "https://localhost:8080/",
          "height": 288
        },
        "outputId": "9b0b887a-5af8-4012-b23b-705bc7971154"
      },
      "outputs": [
        {
          "output_type": "execute_result",
          "data": {
            "text/plain": [
              "<IPython.core.display.HTML object>"
            ],
            "text/html": [
              "\n",
              "<video width=400 controls>\n",
              "      <source src=\"data:video/mp4;base64,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\" type=\"video/mp4\">\n",
              "</video>\n"
            ]
          },
          "metadata": {},
          "execution_count": 277
        }
      ],
      "source": [
        "#@title Визуализация политики\n",
        "#@markdown Выберите номер эпизода, кратный 100 и меньший или равный 1000, и **запустите эту ячейку**.\n",
        "episode_number = 1000 #@param {type:\"number\"}\n",
        "\n",
        "assert (episode_number % 100) == 0, \"Episode number must be a multiple of 100 since we only record every 100th episode.\"\n",
        "assert episode_number < 1001, \"Episode number must be less than or equal to 1000\"\n",
        "\n",
        "\n",
        "eval_episode_number = int(episode_number / 100 * 8)\n",
        "video_path = f\"./video/q_learning/eval/rl-video-episode-{eval_episode_number}.mp4\"\n",
        "\n",
        "mp4 = open(video_path,'rb').read()\n",
        "data_url = \"data:video/mp4;base64,\" + b64encode(mp4).decode()\n",
        "HTML(\"\"\"\n",
        "<video width=400 controls>\n",
        "      <source src=\"%s\" type=\"video/mp4\">\n",
        "</video>\n",
        "\"\"\" % data_url)"
      ]
    },
    {
      "cell_type": "markdown",
      "metadata": {
        "id": "fV3YG7QOZD-B"
      },
      "source": [
        "Кроме того, существует множество алгоритмов RL, которые вносят существенные улучшения в REINFORCE и Deep Q-Learning. См. эти ресурсы:\n",
        "* [REINFORCE с базовым уровнем](https://spinningup.openai.com/en/latest/spinningup/rl_intro3.html#baselines-in-policy-gradients)\n",
        "* [Double Deep Q-Network](https://arxiv.org/pdf/1509.06461.pdf)\n",
        "* [Proximal Policy Optimisation (PPO)](https://arxiv.org/pdf/1707.06347.pdf)\n",
        "\n",
        "Если вы ищете более углубленный онлайн-курс по RL, вы можете ознакомиться с этими курсами:\n",
        "* [Reinforcement Learning Foundations on LinkedIn Learning](https://www.linkedin.com/learning/reinforcement-learning-foundations) (создано одним из наших собственных преподавателей, Хаулатом Абдулхакимом)\n",
        "* [Введение в Reinforcement Learning on FreeCodeCamp](https://www.freecodecamp.org/news/an-introduction-to-reinforcement-learning-4339519de419/)\n",
        "* [Специализация обучения с подкреплением на Coursera](https://www.coursera.org/specializations/reinforcement-learning)\n",
        "\n",
        "Наконец, самый влиятельный учебник по обучению с подкреплением доступен бесплатно онлайн:\n",
        "* [Обучение с подкреплением: введение](http://incompleteideas.net/book/the-book-2nd.html) Ричарда С. Саттона и Эндрю Г. Барто\n",
        "\n",
        "\n",
        "**Ссылки:**\n",
        "\n",
        "* [OpenAI Spinning Up](https://spinningup.openai.com/en/latest/)\n",
        "* [Deep Q-Network]()"
      ]
    },
    {
      "cell_type": "code",
      "source": [],
      "metadata": {
        "id": "6V47Vd_i3qk7"
      },
      "execution_count": null,
      "outputs": []
    }
  ],
  "metadata": {
    "colab": {
      "provenance": [],
      "gpuType": "T4",
      "include_colab_link": true
    },
    "kernelspec": {
      "display_name": "Python 3",
      "name": "python3"
    },
    "language_info": {
      "codemirror_mode": {
        "name": "ipython",
        "version": 3
      },
      "file_extension": ".py",
      "mimetype": "text/x-python",
      "name": "python",
      "nbconvert_exporter": "python",
      "pygments_lexer": "ipython3",
      "version": "3.8.13"
    },
    "vscode": {
      "interpreter": {
        "hash": "0f35138c66f99be0fd7a1210bb4aa94a6fbaa5f29d51ad43aec0e0ea0ff050f0"
      }
    }
  },
  "nbformat": 4,
  "nbformat_minor": 0
}